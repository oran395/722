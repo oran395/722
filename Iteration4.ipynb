{
 "cells": [
  {
   "cell_type": "code",
   "execution_count": 1,
   "metadata": {},
   "outputs": [],
   "source": [
    "#1\n",
    "import findspark\n",
    "findspark.init('/home/ubuntu/spark-2.1.1-bin-hadoop2.7')\n",
    "import pyspark\n",
    "from pyspark.sql import SparkSession\n",
    "spark = SparkSession.builder.appName('SchoolIteration4').getOrCreate()"
   ]
  },
  {
   "cell_type": "markdown",
   "metadata": {},
   "source": [
    "# Data loading"
   ]
  },
  {
   "cell_type": "code",
   "execution_count": 2,
   "metadata": {},
   "outputs": [],
   "source": [
    "#2\n",
    "# Read different datasets\n",
    "df1 = spark.read.csv('dataset/SEC SRC RAW DATA 2012-13.csv', inferSchema=True, header=True)\n",
    "df2 = spark.read.csv('dataset/SEC SRC RAW DATA 2013-14.csv', inferSchema=True, header=True)\n",
    "df3 = spark.read.csv('dataset/SEC SRC RAW DATA 2014-15.csv', inferSchema=True, header=True)\n",
    "df4 = spark.read.csv('dataset/SEC SRC RAW DATA 2015-16.csv', inferSchema=True, header=True)\n",
    "df5 = spark.read.csv('dataset/SEC SRC RAW DATA 2016-17.csv', inferSchema=True, header=True)\n",
    "\n",
    "#Append different datasets\n",
    "school=df1.union(df2).union(df3).union(df4).union(df5)"
   ]
  },
  {
   "cell_type": "markdown",
   "metadata": {},
   "source": [
    "# Data Exploration"
   ]
  },
  {
   "cell_type": "code",
   "execution_count": 3,
   "metadata": {},
   "outputs": [
    {
     "data": {
      "text/plain": [
       "178"
      ]
     },
     "execution_count": 3,
     "metadata": {},
     "output_type": "execute_result"
    }
   ],
   "source": [
    "school.count()\n"
   ]
  },
  {
   "cell_type": "code",
   "execution_count": 4,
   "metadata": {},
   "outputs": [
    {
     "data": {
      "text/plain": [
       "622"
      ]
     },
     "execution_count": 4,
     "metadata": {},
     "output_type": "execute_result"
    }
   ],
   "source": [
    "len(school.columns)"
   ]
  },
  {
   "cell_type": "code",
   "execution_count": 24,
   "metadata": {},
   "outputs": [
    {
     "name": "stdout",
     "output_type": "stream",
     "text": [
      "+-------+-----+\n",
      "|ac_year|count|\n",
      "+-------+-----+\n",
      "|2012-13|   35|\n",
      "|2016-17|   36|\n",
      "|2015-16|   36|\n",
      "|2014-15|   36|\n",
      "|2013-14|   35|\n",
      "+-------+-----+\n",
      "\n"
     ]
    }
   ],
   "source": [
    "school_summary = school.groupBy(\"ac_year\").count().show()"
   ]
  },
  {
   "cell_type": "code",
   "execution_count": 12,
   "metadata": {
    "scrolled": true
   },
   "outputs": [
    {
     "name": "stdout",
     "output_type": "stream",
     "text": [
      "root\n",
      " |-- ac_year: string (nullable = true)\n",
      " |-- statcd: integer (nullable = true)\n",
      " |-- statname: string (nullable = true)\n",
      " |-- area_sqkm: integer (nullable = true)\n",
      " |-- tot_population: double (nullable = true)\n",
      " |-- urban_population: double (nullable = true)\n",
      " |-- grwoth_rate: double (nullable = true)\n",
      " |-- sexratio: integer (nullable = true)\n",
      " |-- sc_population: double (nullable = true)\n",
      " |-- st_population: double (nullable = true)\n",
      " |-- literacy_rate: double (nullable = true)\n",
      " |-- male_literacy_rate: double (nullable = true)\n",
      " |-- female_literacy_rate: double (nullable = true)\n",
      " |-- distcd: integer (nullable = true)\n",
      " |-- blkcd: integer (nullable = true)\n",
      " |-- villages: integer (nullable = true)\n",
      " |-- clusters: integer (nullable = true)\n",
      " |-- schools: integer (nullable = true)\n",
      " |-- sch_1: integer (nullable = true)\n",
      " |-- sch_2: integer (nullable = true)\n",
      " |-- sch_3: integer (nullable = true)\n",
      " |-- sch_4: integer (nullable = true)\n",
      " |-- sch_5: integer (nullable = true)\n",
      " |-- sch_6: integer (nullable = true)\n",
      " |-- sch_7: integer (nullable = true)\n",
      " |-- sch_r_1: integer (nullable = true)\n",
      " |-- sch_r_2: integer (nullable = true)\n",
      " |-- sch_r_3: integer (nullable = true)\n",
      " |-- sch_r_4: integer (nullable = true)\n",
      " |-- sch_r_5: integer (nullable = true)\n",
      " |-- sch_r_6: integer (nullable = true)\n",
      " |-- sch_r_7: integer (nullable = true)\n",
      " |-- sch_u_1: integer (nullable = true)\n",
      " |-- sch_u_2: integer (nullable = true)\n",
      " |-- sch_u_3: integer (nullable = true)\n",
      " |-- sch_u_4: integer (nullable = true)\n",
      " |-- sch_u_5: integer (nullable = true)\n",
      " |-- sch_u_6: integer (nullable = true)\n",
      " |-- sch_u_7: integer (nullable = true)\n",
      " |-- enr_1: integer (nullable = true)\n",
      " |-- enr_2: integer (nullable = true)\n",
      " |-- enr_3: integer (nullable = true)\n",
      " |-- enr_4: integer (nullable = true)\n",
      " |-- enr_5: integer (nullable = true)\n",
      " |-- enr_6: integer (nullable = true)\n",
      " |-- enr_7: integer (nullable = true)\n",
      " |-- enr_all: integer (nullable = true)\n",
      " |-- enr_r_1: integer (nullable = true)\n",
      " |-- enr_r_2: integer (nullable = true)\n",
      " |-- enr_r_3: integer (nullable = true)\n",
      " |-- enr_r_4: integer (nullable = true)\n",
      " |-- enr_r_5: integer (nullable = true)\n",
      " |-- enr_r_6: integer (nullable = true)\n",
      " |-- enr_r_7: integer (nullable = true)\n",
      " |-- enr_r_all: integer (nullable = true)\n",
      " |-- enr_u_1: integer (nullable = true)\n",
      " |-- enr_u_2: integer (nullable = true)\n",
      " |-- enr_u_3: integer (nullable = true)\n",
      " |-- enr_u_4: integer (nullable = true)\n",
      " |-- enr_u_5: integer (nullable = true)\n",
      " |-- enr_u_6: integer (nullable = true)\n",
      " |-- enr_u_7: integer (nullable = true)\n",
      " |-- enr_u_all: integer (nullable = true)\n",
      " |-- tch_1: integer (nullable = true)\n",
      " |-- tch_2: integer (nullable = true)\n",
      " |-- tch_3: integer (nullable = true)\n",
      " |-- tch_4: integer (nullable = true)\n",
      " |-- tch_5: integer (nullable = true)\n",
      " |-- tch_6: integer (nullable = true)\n",
      " |-- tch_7: integer (nullable = true)\n",
      " |-- tch_all: integer (nullable = true)\n",
      " |-- tch_r_1: integer (nullable = true)\n",
      " |-- tch_r_2: integer (nullable = true)\n",
      " |-- tch_r_3: integer (nullable = true)\n",
      " |-- tch_r_4: integer (nullable = true)\n",
      " |-- tch_r_5: integer (nullable = true)\n",
      " |-- tch_r_6: integer (nullable = true)\n",
      " |-- tch_r_7: integer (nullable = true)\n",
      " |-- tch_r_all: integer (nullable = true)\n",
      " |-- tch_u_1: integer (nullable = true)\n",
      " |-- tch_u_2: integer (nullable = true)\n",
      " |-- tch_u_3: integer (nullable = true)\n",
      " |-- tch_u_4: integer (nullable = true)\n",
      " |-- tch_u_5: integer (nullable = true)\n",
      " |-- tch_u_6: integer (nullable = true)\n",
      " |-- tch_u_7: integer (nullable = true)\n",
      " |-- tch_u_all: integer (nullable = true)\n",
      " |-- sing_cls_sch_1: integer (nullable = true)\n",
      " |-- sing_cls_sch_2: integer (nullable = true)\n",
      " |-- sing_cls_sch_3: integer (nullable = true)\n",
      " |-- sing_cls_sch_4: integer (nullable = true)\n",
      " |-- sing_cls_sch_5: integer (nullable = true)\n",
      " |-- sing_cls_sch_6: integer (nullable = true)\n",
      " |-- sing_cls_sch_7: integer (nullable = true)\n",
      " |-- sing_cls_sch_all: integer (nullable = true)\n",
      " |-- sing_tch_sch_1: integer (nullable = true)\n",
      " |-- sing_tch_sch_2: integer (nullable = true)\n",
      " |-- sing_tch_sch_3: integer (nullable = true)\n",
      " |-- sing_tch_sch_4: integer (nullable = true)\n",
      " |-- sing_tch_sch_5: integer (nullable = true)\n",
      " |-- sing_tch_sch_6: integer (nullable = true)\n",
      " |-- sing_tch_sch_7: integer (nullable = true)\n",
      " |-- sing_tch_sch_all: integer (nullable = true)\n",
      " |-- bldg_1: integer (nullable = true)\n",
      " |-- bldg_2: integer (nullable = true)\n",
      " |-- bldg_3: integer (nullable = true)\n",
      " |-- bldg_4: integer (nullable = true)\n",
      " |-- bldg_5: integer (nullable = true)\n",
      " |-- bldg_6: integer (nullable = true)\n",
      " |-- bldg_7: integer (nullable = true)\n",
      " |-- bldg_all: integer (nullable = true)\n",
      " |-- girls_toilet_1: double (nullable = true)\n",
      " |-- girls_toilet_2: double (nullable = true)\n",
      " |-- girls_toilet_3: double (nullable = true)\n",
      " |-- girls_toilet_4: double (nullable = true)\n",
      " |-- girls_toilet_5: double (nullable = true)\n",
      " |-- girls_toilet_6: double (nullable = true)\n",
      " |-- girls_toilet_7: double (nullable = true)\n",
      " |-- girls_toilet_all: double (nullable = true)\n",
      " |-- boys_toilet_1: string (nullable = true)\n",
      " |-- boys_toilet_2: string (nullable = true)\n",
      " |-- boys_toilet_3: string (nullable = true)\n",
      " |-- boys_toilet_4: string (nullable = true)\n",
      " |-- boys_toilet_5: string (nullable = true)\n",
      " |-- boys_toilet_6: string (nullable = true)\n",
      " |-- boys_toilet_7: string (nullable = true)\n",
      " |-- boys_toilet_all: string (nullable = true)\n",
      " |-- gsch_1: string (nullable = true)\n",
      " |-- gsch_2: string (nullable = true)\n",
      " |-- gsch_3: string (nullable = true)\n",
      " |-- gsch_4: string (nullable = true)\n",
      " |-- gsch_5: string (nullable = true)\n",
      " |-- gsch_6: string (nullable = true)\n",
      " |-- gsch_7: string (nullable = true)\n",
      " |-- gsch_all: string (nullable = true)\n",
      " |-- bsch_1: string (nullable = true)\n",
      " |-- bsch_2: string (nullable = true)\n",
      " |-- bsch_3: string (nullable = true)\n",
      " |-- bsch_4: string (nullable = true)\n",
      " |-- bsch_5: string (nullable = true)\n",
      " |-- bsch_6: string (nullable = true)\n",
      " |-- bsch_7: string (nullable = true)\n",
      " |-- bsch_all: string (nullable = true)\n",
      " |-- co_sch1: string (nullable = true)\n",
      " |-- co_sch2: string (nullable = true)\n",
      " |-- co_sch3: string (nullable = true)\n",
      " |-- co_sch4: string (nullable = true)\n",
      " |-- co_sch5: string (nullable = true)\n",
      " |-- co_sch6: string (nullable = true)\n",
      " |-- co_sch7: string (nullable = true)\n",
      " |-- co_sch_all: string (nullable = true)\n",
      " |-- cwsn_toilet_1: integer (nullable = true)\n",
      " |-- cwsn_toilet_2: integer (nullable = true)\n",
      " |-- cwsn_toilet_3: integer (nullable = true)\n",
      " |-- cwsn_toilet_4: integer (nullable = true)\n",
      " |-- cwsn_toilet_5: integer (nullable = true)\n",
      " |-- cwsn_toilet_6: integer (nullable = true)\n",
      " |-- cwsn_toilet_7: integer (nullable = true)\n",
      " |-- cwsn_toilet_all: integer (nullable = true)\n",
      " |-- water_1: integer (nullable = true)\n",
      " |-- water_2: integer (nullable = true)\n",
      " |-- water_3: integer (nullable = true)\n",
      " |-- water_4: integer (nullable = true)\n",
      " |-- water_5: integer (nullable = true)\n",
      " |-- water_6: integer (nullable = true)\n",
      " |-- water_7: integer (nullable = true)\n",
      " |-- water_all: integer (nullable = true)\n",
      " |-- electric_1: integer (nullable = true)\n",
      " |-- electric_2: integer (nullable = true)\n",
      " |-- electric_3: integer (nullable = true)\n",
      " |-- electric_4: integer (nullable = true)\n",
      " |-- electric_5: integer (nullable = true)\n",
      " |-- electric_6: integer (nullable = true)\n",
      " |-- electric_7: integer (nullable = true)\n",
      " |-- electric_all: integer (nullable = true)\n",
      " |-- ramps_1: integer (nullable = true)\n",
      " |-- ramps_2: integer (nullable = true)\n",
      " |-- ramps_3: integer (nullable = true)\n",
      " |-- ramps_4: integer (nullable = true)\n",
      " |-- ramps_5: integer (nullable = true)\n",
      " |-- ramps_6: integer (nullable = true)\n",
      " |-- ramps_7: integer (nullable = true)\n",
      " |-- ramps_all: integer (nullable = true)\n",
      " |-- library_1: integer (nullable = true)\n",
      " |-- library_2: integer (nullable = true)\n",
      " |-- library_3: integer (nullable = true)\n",
      " |-- library_4: integer (nullable = true)\n",
      " |-- library_5: integer (nullable = true)\n",
      " |-- library_6: integer (nullable = true)\n",
      " |-- library_7: integer (nullable = true)\n",
      " |-- library_all: integer (nullable = true)\n",
      " |-- librarian_1: integer (nullable = true)\n",
      " |-- librarian_2: integer (nullable = true)\n",
      " |-- librarian_3: integer (nullable = true)\n",
      " |-- librarian_4: integer (nullable = true)\n",
      " |-- librarian_5: integer (nullable = true)\n",
      " |-- librarian_6: integer (nullable = true)\n",
      " |-- librarian_7: integer (nullable = true)\n",
      " |-- librarian_all: integer (nullable = true)\n",
      " |-- bndrywall_1: integer (nullable = true)\n",
      " |-- bndrywall_2: integer (nullable = true)\n",
      " |-- bndrywall_3: integer (nullable = true)\n",
      " |-- bndrywall_4: integer (nullable = true)\n",
      " |-- bndrywall_5: integer (nullable = true)\n",
      " |-- bndrywall_6: integer (nullable = true)\n",
      " |-- bndrywall_7: integer (nullable = true)\n",
      " |-- bndrywall_all: integer (nullable = true)\n",
      " |-- cwsn_sch_1: integer (nullable = true)\n",
      " |-- cwsn_sch_2: integer (nullable = true)\n",
      " |-- cwsn_sch_3: integer (nullable = true)\n",
      " |-- cwsn_sch_4: integer (nullable = true)\n",
      " |-- cwsn_sch_5: integer (nullable = true)\n",
      " |-- cwsn_sch_6: integer (nullable = true)\n",
      " |-- cwsn_sch_7: integer (nullable = true)\n",
      " |-- cwsn_sch_all: integer (nullable = true)\n",
      " |-- lab_asst_1: integer (nullable = true)\n",
      " |-- lab_asst_2: integer (nullable = true)\n",
      " |-- lab_asst_3: integer (nullable = true)\n",
      " |-- lab_asst_4: integer (nullable = true)\n",
      " |-- lab_asst_5: integer (nullable = true)\n",
      " |-- lab_asst_6: integer (nullable = true)\n",
      " |-- lab_asst_7: integer (nullable = true)\n",
      " |-- lab_asst_all: integer (nullable = true)\n",
      " |-- hmroom_1: integer (nullable = true)\n",
      " |-- hmroom_2: integer (nullable = true)\n",
      " |-- hmroom_3: integer (nullable = true)\n",
      " |-- hmroom_4: integer (nullable = true)\n",
      " |-- hmroom_5: integer (nullable = true)\n",
      " |-- hmroom_6: integer (nullable = true)\n",
      " |-- hmroom_7: integer (nullable = true)\n",
      " |-- hmroom_all: integer (nullable = true)\n",
      " |-- hostel_boys_1: integer (nullable = true)\n",
      " |-- hostel_boys_2: integer (nullable = true)\n",
      " |-- hostel_boys_3: integer (nullable = true)\n",
      " |-- hostel_boys_4: integer (nullable = true)\n",
      " |-- hostel_boys_5: integer (nullable = true)\n",
      " |-- hostel_boys_6: integer (nullable = true)\n",
      " |-- hostel_boys_7: integer (nullable = true)\n",
      " |-- hostel_boys_all: integer (nullable = true)\n",
      " |-- hostel_girls_1: integer (nullable = true)\n",
      " |-- hostel_girls_2: integer (nullable = true)\n",
      " |-- hostel_girls_3: integer (nullable = true)\n",
      " |-- hostel_girls_4: integer (nullable = true)\n",
      " |-- hostel_girls_5: integer (nullable = true)\n",
      " |-- hostel_girls_6: integer (nullable = true)\n",
      " |-- hostel_girls_7: integer (nullable = true)\n",
      " |-- hostel_girls_all: integer (nullable = true)\n",
      " |-- internet_1: integer (nullable = true)\n",
      " |-- internet_2: integer (nullable = true)\n",
      " |-- internet_3: integer (nullable = true)\n",
      " |-- internet_4: integer (nullable = true)\n",
      " |-- internet_5: integer (nullable = true)\n",
      " |-- internet_6: integer (nullable = true)\n",
      " |-- internet_7: integer (nullable = true)\n",
      " |-- internet_all: integer (nullable = true)\n",
      " |-- ict_lab_1: integer (nullable = true)\n",
      " |-- ict_lab_2: integer (nullable = true)\n",
      " |-- ict_lab_3: integer (nullable = true)\n",
      " |-- ict_lab_4: integer (nullable = true)\n",
      " |-- ict_lab_5: integer (nullable = true)\n",
      " |-- ict_lab_6: integer (nullable = true)\n",
      " |-- ict_lab_7: integer (nullable = true)\n",
      " |-- ict_lab_all: integer (nullable = true)\n",
      " |-- pground_1: string (nullable = true)\n",
      " |-- pground_2: string (nullable = true)\n",
      " |-- pground_3: string (nullable = true)\n",
      " |-- pground_4: string (nullable = true)\n",
      " |-- pground_5: string (nullable = true)\n",
      " |-- pground_6: string (nullable = true)\n",
      " |-- pground_7: string (nullable = true)\n",
      " |-- pground_all: string (nullable = true)\n",
      " |-- medchk_1: string (nullable = true)\n",
      " |-- medchk_2: string (nullable = true)\n",
      " |-- medchk_3: string (nullable = true)\n",
      " |-- medchk_4: string (nullable = true)\n",
      " |-- medchk_5: string (nullable = true)\n",
      " |-- medchk_6: string (nullable = true)\n",
      " |-- medchk_7: string (nullable = true)\n",
      " |-- medchk_all: string (nullable = true)\n",
      " |-- smdc_1: integer (nullable = true)\n",
      " |-- smdc_2: integer (nullable = true)\n",
      " |-- smdc_3: integer (nullable = true)\n",
      " |-- smdc_4: integer (nullable = true)\n",
      " |-- smdc_5: integer (nullable = true)\n",
      " |-- smdc_6: integer (nullable = true)\n",
      " |-- smdc_7: integer (nullable = true)\n",
      " |-- smdc_all: integer (nullable = true)\n",
      " |-- sch_bld_com_1: integer (nullable = true)\n",
      " |-- sch_bld_com_2: integer (nullable = true)\n",
      " |-- sch_bld_com_3: integer (nullable = true)\n",
      " |-- sch_bld_com_4: integer (nullable = true)\n",
      " |-- sch_bld_com_5: integer (nullable = true)\n",
      " |-- sch_bld_com_6: integer (nullable = true)\n",
      " |-- sch_bld_com_7: integer (nullable = true)\n",
      " |-- sch_bld_com_all: integer (nullable = true)\n",
      " |-- pta_1: integer (nullable = true)\n",
      " |-- pta_2: integer (nullable = true)\n",
      " |-- pta_3: integer (nullable = true)\n",
      " |-- pta_4: integer (nullable = true)\n",
      " |-- pta_5: integer (nullable = true)\n",
      " |-- pta_6: integer (nullable = true)\n",
      " |-- pta_7: integer (nullable = true)\n",
      " |-- pta_all: integer (nullable = true)\n",
      " |-- sch_2006_1: integer (nullable = true)\n",
      " |-- sch_2006_2: integer (nullable = true)\n",
      " |-- sch_2006_3: integer (nullable = true)\n",
      " |-- sch_2006_4: integer (nullable = true)\n",
      " |-- sch_2006_5: integer (nullable = true)\n",
      " |-- sch_2006_6: integer (nullable = true)\n",
      " |-- sch_2006_7: integer (nullable = true)\n",
      " |-- sch_2006_all: integer (nullable = true)\n",
      " |-- cls_1: integer (nullable = true)\n",
      " |-- cls_2: integer (nullable = true)\n",
      " |-- cls_3: integer (nullable = true)\n",
      " |-- cls_4: integer (nullable = true)\n",
      " |-- cls_5: integer (nullable = true)\n",
      " |-- cls_6: integer (nullable = true)\n",
      " |-- cls_7: integer (nullable = true)\n",
      " |-- cls_all: integer (nullable = true)\n",
      " |-- tchf_1: integer (nullable = true)\n",
      " |-- tchf_2: integer (nullable = true)\n",
      " |-- tchf_3: integer (nullable = true)\n",
      " |-- tchf_4: integer (nullable = true)\n",
      " |-- tchf_5: integer (nullable = true)\n",
      " |-- tchf_6: integer (nullable = true)\n",
      " |-- tchf_7: integer (nullable = true)\n",
      " |-- tchf_all: integer (nullable = true)\n",
      " |-- enrg_1: integer (nullable = true)\n",
      " |-- enrg_2: integer (nullable = true)\n",
      " |-- enrg_3: integer (nullable = true)\n",
      " |-- enrg_4: integer (nullable = true)\n",
      " |-- enrg_5: integer (nullable = true)\n",
      " |-- enrg_6: integer (nullable = true)\n",
      " |-- enrg_7: integer (nullable = true)\n",
      " |-- enrg_all: integer (nullable = true)\n",
      " |-- enrc8_b: integer (nullable = true)\n",
      " |-- enrc8_g: integer (nullable = true)\n",
      " |-- enrc9_b: integer (nullable = true)\n",
      " |-- enrc9_g: integer (nullable = true)\n",
      " |-- enrc10_b: integer (nullable = true)\n",
      " |-- enrc10_g: integer (nullable = true)\n",
      " |-- enrc11_b: integer (nullable = true)\n",
      " |-- enrc11_g: integer (nullable = true)\n",
      " |-- enrc12_b: integer (nullable = true)\n",
      " |-- enrc12_g: integer (nullable = true)\n",
      " |-- repc8_b: integer (nullable = true)\n",
      " |-- repc8_g: integer (nullable = true)\n",
      " |-- repc9_b: integer (nullable = true)\n",
      " |-- repc9_g: integer (nullable = true)\n",
      " |-- repc10_b: integer (nullable = true)\n",
      " |-- repc10_g: integer (nullable = true)\n",
      " |-- repc11_b: integer (nullable = true)\n",
      " |-- repc11_g: integer (nullable = true)\n",
      " |-- repc12_b: integer (nullable = true)\n",
      " |-- repc12_g: integer (nullable = true)\n",
      " |-- cwsnc8_b: integer (nullable = true)\n",
      " |-- cwsnc8_g: integer (nullable = true)\n",
      " |-- cwsnc9_b: integer (nullable = true)\n",
      " |-- cwsnc9_g: integer (nullable = true)\n",
      " |-- cwsnc10_b: integer (nullable = true)\n",
      " |-- cwsnc10_g: integer (nullable = true)\n",
      " |-- cwsnc11_b: integer (nullable = true)\n",
      " |-- cwsnc11_g: integer (nullable = true)\n",
      " |-- cwsnc12_b: integer (nullable = true)\n",
      " |-- cwsnc12_g: integer (nullable = true)\n",
      " |-- schlabphy: integer (nullable = true)\n",
      " |-- schlabchem: integer (nullable = true)\n",
      " |-- schlabbio: integer (nullable = true)\n",
      " |-- schlabcomputer: integer (nullable = true)\n",
      " |-- schlabmath: integer (nullable = true)\n",
      " |-- schlablang: integer (nullable = true)\n",
      " |-- schlabgeo: integer (nullable = true)\n",
      " |-- schlabpsyc: integer (nullable = true)\n",
      " |-- schlabhsci: integer (nullable = true)\n",
      " |-- scsec: integer (nullable = true)\n",
      " |-- scsec_g: integer (nullable = true)\n",
      " |-- schsec: integer (nullable = true)\n",
      " |-- schsec_g: integer (nullable = true)\n",
      " |-- stsec: integer (nullable = true)\n",
      " |-- stsec_g: integer (nullable = true)\n",
      " |-- sthsec: integer (nullable = true)\n",
      " |-- sthsec_g: integer (nullable = true)\n",
      " |-- obcsec: integer (nullable = true)\n",
      " |-- obcsec_g: integer (nullable = true)\n",
      " |-- obchsec: integer (nullable = true)\n",
      " |-- obchsec_g: integer (nullable = true)\n",
      " |-- muslim_sec: integer (nullable = true)\n",
      " |-- muslim_sec_g: integer (nullable = true)\n",
      " |-- muslim_hsec: integer (nullable = true)\n",
      " |-- muslim_hsec_g: integer (nullable = true)\n",
      " |-- clgood_sec: integer (nullable = true)\n",
      " |-- clmajor_sec: integer (nullable = true)\n",
      " |-- clminor_sec: integer (nullable = true)\n",
      " |-- clgood_hsec: integer (nullable = true)\n",
      " |-- clmajor_hsec: integer (nullable = true)\n",
      " |-- clminor_hsec: integer (nullable = true)\n",
      " |-- boys_b13_c8: integer (nullable = true)\n",
      " |-- girls_b13_c8: integer (nullable = true)\n",
      " |-- boys_b13_c9: integer (nullable = true)\n",
      " |-- girls_b13_c9: integer (nullable = true)\n",
      " |-- boys_b13_c10: integer (nullable = true)\n",
      " |-- girls_b13_c10: integer (nullable = true)\n",
      " |-- boys_13_c8: integer (nullable = true)\n",
      " |-- girls_13_c8: integer (nullable = true)\n",
      " |-- boys_13_c9: integer (nullable = true)\n",
      " |-- girls_13_c9: integer (nullable = true)\n",
      " |-- boys_13_c10: integer (nullable = true)\n",
      " |-- girls_13_c10: integer (nullable = true)\n",
      " |-- boys_14_c8: integer (nullable = true)\n",
      " |-- girls_14_c8: integer (nullable = true)\n",
      " |-- boys_14_c9: integer (nullable = true)\n",
      " |-- girls_14_c9: integer (nullable = true)\n",
      " |-- boys_14_c10: integer (nullable = true)\n",
      " |-- girls_14_c10: integer (nullable = true)\n",
      " |-- boys_15_c8: integer (nullable = true)\n",
      " |-- girls_15_c8: integer (nullable = true)\n",
      " |-- boys_15_c9: integer (nullable = true)\n",
      " |-- girls_15_c9: integer (nullable = true)\n",
      " |-- boys_15_c10: integer (nullable = true)\n",
      " |-- girls_15_c10: integer (nullable = true)\n",
      " |-- boys_a15_c8: integer (nullable = true)\n",
      " |-- girls_a15_c8: integer (nullable = true)\n",
      " |-- boys_a15_c9: integer (nullable = true)\n",
      " |-- girls_a15_c9: integer (nullable = true)\n",
      " |-- boys_a15_c10: integer (nullable = true)\n",
      " |-- girls_a15_c10: integer (nullable = true)\n",
      " |-- boys_b15_c11: integer (nullable = true)\n",
      " |-- girls_b15_c11: integer (nullable = true)\n",
      " |-- boys_b15_c12: integer (nullable = true)\n",
      " |-- girls_b15_c12: integer (nullable = true)\n",
      " |-- boys_15_c11: integer (nullable = true)\n",
      " |-- girls_15_c11: integer (nullable = true)\n",
      " |-- boys_15_c12: integer (nullable = true)\n",
      " |-- girls_15_c12: integer (nullable = true)\n",
      " |-- boys_16_c11: integer (nullable = true)\n",
      " |-- girls_16_c11: integer (nullable = true)\n",
      " |-- boys_16_c12: integer (nullable = true)\n",
      " |-- girls_16_c12: integer (nullable = true)\n",
      " |-- boys_17_c11: integer (nullable = true)\n",
      " |-- girls_17_c11: integer (nullable = true)\n",
      " |-- boys_17_c12: integer (nullable = true)\n",
      " |-- girls_17_c12: integer (nullable = true)\n",
      " |-- boys_a17_c11: integer (nullable = true)\n",
      " |-- girls_a17_c11: integer (nullable = true)\n",
      " |-- boys_a17_c12: integer (nullable = true)\n",
      " |-- girls_a17_c12: integer (nullable = true)\n",
      " |-- apr_b_gen_py10: integer (nullable = true)\n",
      " |-- apr_g_gen_py10: integer (nullable = true)\n",
      " |-- apr_b_sc_py10: integer (nullable = true)\n",
      " |-- apr_g_sc_py10: integer (nullable = true)\n",
      " |-- apr_b_st_py10: integer (nullable = true)\n",
      " |-- apr_g_st_py10: integer (nullable = true)\n",
      " |-- apr_b_obc_py10: integer (nullable = true)\n",
      " |-- apr_g_obc_py10: integer (nullable = true)\n",
      " |-- pass_b_gen_py10: integer (nullable = true)\n",
      " |-- pass_g_gen_py10: integer (nullable = true)\n",
      " |-- pass_b_sc_py10: integer (nullable = true)\n",
      " |-- pass_g_sc_py10: integer (nullable = true)\n",
      " |-- pass_b_st_py10: integer (nullable = true)\n",
      " |-- pass_g_st_py10: integer (nullable = true)\n",
      " |-- pass_b_obc_py10: integer (nullable = true)\n",
      " |-- pass_g_obc_py10: integer (nullable = true)\n",
      " |-- arts_c11_b: integer (nullable = true)\n",
      " |-- sci_c11_b: integer (nullable = true)\n",
      " |-- com_c11_b: integer (nullable = true)\n",
      " |-- voc_c11_b: integer (nullable = true)\n",
      " |-- oth_c11_b: integer (nullable = true)\n",
      " |-- arts_c11_g: integer (nullable = true)\n",
      " |-- sci_c11_g: integer (nullable = true)\n",
      " |-- com_c11_g: integer (nullable = true)\n",
      " |-- voc_c11_g: integer (nullable = true)\n",
      " |-- oth_c11_g: integer (nullable = true)\n",
      " |-- arts_c12_b: integer (nullable = true)\n",
      " |-- sci_c12_b: integer (nullable = true)\n",
      " |-- com_c12_b: integer (nullable = true)\n",
      " |-- voc_c12_b: integer (nullable = true)\n",
      " |-- oth_c12_b: integer (nullable = true)\n",
      " |-- arts_c12_g: integer (nullable = true)\n",
      " |-- sci_c12_g: integer (nullable = true)\n",
      " |-- com_c12_g: integer (nullable = true)\n",
      " |-- voc_c12_g: integer (nullable = true)\n",
      " |-- oth_c12_g: integer (nullable = true)\n",
      " |-- apr_arts_gen_b: integer (nullable = true)\n",
      " |-- apr_arts_gen_g: integer (nullable = true)\n",
      " |-- apr_arts_sc_b: integer (nullable = true)\n",
      " |-- apr_arts_sc_g: integer (nullable = true)\n",
      " |-- apr_arts_st_b: integer (nullable = true)\n",
      " |-- apr_arts_st_g: integer (nullable = true)\n",
      " |-- apr_arts_obc_b: integer (nullable = true)\n",
      " |-- apr_arts_obc_g: integer (nullable = true)\n",
      " |-- pass_arts_gen_b: integer (nullable = true)\n",
      " |-- pass_arts_gen_g: integer (nullable = true)\n",
      " |-- pass_arts_sc_b: integer (nullable = true)\n",
      " |-- pass_arts_sc_g: integer (nullable = true)\n",
      " |-- pass_arts_st_b: integer (nullable = true)\n",
      " |-- pass_arts_st_g: integer (nullable = true)\n",
      " |-- pass_arts_obc_b: integer (nullable = true)\n",
      " |-- pass_arts_obc_g: integer (nullable = true)\n",
      " |-- apr_sci_gen_b: integer (nullable = true)\n",
      " |-- apr_sci_gen_g: integer (nullable = true)\n",
      " |-- apr_sci_sc_b: integer (nullable = true)\n",
      " |-- apr_sci_sc_g: integer (nullable = true)\n",
      " |-- apr_sci_st_b: integer (nullable = true)\n",
      " |-- apr_sci_st_g: integer (nullable = true)\n",
      " |-- apr_sci_obc_b: integer (nullable = true)\n",
      " |-- apr_sci_obc_g: integer (nullable = true)\n",
      " |-- pass_sci_gen_b: integer (nullable = true)\n",
      " |-- pass_sci_gen_g: integer (nullable = true)\n",
      " |-- pass_sci_sc_b: integer (nullable = true)\n",
      " |-- pass_sci_sc_g: integer (nullable = true)\n",
      " |-- pass_sci_st_b: integer (nullable = true)\n",
      " |-- pass_sci_st_g: integer (nullable = true)\n",
      " |-- pass_sci_obc_b: integer (nullable = true)\n",
      " |-- pass_sci_obc_g: integer (nullable = true)\n",
      " |-- apr_com_gen_b: integer (nullable = true)\n",
      " |-- apr_com_gen_g: integer (nullable = true)\n",
      " |-- apr_com_sc_b: integer (nullable = true)\n",
      " |-- apr_com_sc_g: integer (nullable = true)\n",
      " |-- apr_com_st_b: integer (nullable = true)\n",
      " |-- apr_com_st_g: integer (nullable = true)\n",
      " |-- apr_com_obc_b: integer (nullable = true)\n",
      " |-- apr_com_obc_g: integer (nullable = true)\n",
      " |-- pass_com_gen_b: integer (nullable = true)\n",
      " |-- pass_com_gen_g: integer (nullable = true)\n",
      " |-- pass_com_sc_b: integer (nullable = true)\n",
      " |-- pass_com_sc_g: integer (nullable = true)\n",
      " |-- pass_com_st_b: integer (nullable = true)\n",
      " |-- pass_com_st_g: integer (nullable = true)\n",
      " |-- pass_com_obc_b: integer (nullable = true)\n",
      " |-- pass_com_obc_g: integer (nullable = true)\n",
      " |-- apr_voc_gen_b: integer (nullable = true)\n",
      " |-- apr_voc_gen_g: integer (nullable = true)\n",
      " |-- apr_voc_sc_b: integer (nullable = true)\n",
      " |-- apr_voc_sc_g: integer (nullable = true)\n",
      " |-- apr_voc_st_b: integer (nullable = true)\n",
      " |-- apr_voc_st_g: integer (nullable = true)\n",
      " |-- apr_voc_obc_b: integer (nullable = true)\n",
      " |-- apr_voc_obc_g: integer (nullable = true)\n",
      " |-- pass_voc_gen_b: integer (nullable = true)\n",
      " |-- pass_voc_gen_g: integer (nullable = true)\n",
      " |-- pass_voc_sc_b: integer (nullable = true)\n",
      " |-- pass_voc_sc_g: integer (nullable = true)\n",
      " |-- pass_voc_st_b: integer (nullable = true)\n",
      " |-- pass_voc_st_g: integer (nullable = true)\n",
      " |-- pass_voc_obc_b: integer (nullable = true)\n",
      " |-- pass_voc_obc_g: integer (nullable = true)\n",
      " |-- apr_oth_gen_b: integer (nullable = true)\n",
      " |-- apr_oth_gen_g: integer (nullable = true)\n",
      " |-- apr_oth_sc_b: integer (nullable = true)\n",
      " |-- apr_oth_sc_g: integer (nullable = true)\n",
      " |-- apr_oth_st_b: integer (nullable = true)\n",
      " |-- apr_oth_st_g: integer (nullable = true)\n",
      " |-- apr_oth_obc_b: integer (nullable = true)\n",
      " |-- apr_oth_obc_g: integer (nullable = true)\n",
      " |-- pass_oth_gen_b: integer (nullable = true)\n",
      " |-- pass_oth_gen_g: integer (nullable = true)\n",
      " |-- pass_oth_sc_b: integer (nullable = true)\n",
      " |-- pass_oth_sc_g: integer (nullable = true)\n",
      " |-- pass_oth_st_b: integer (nullable = true)\n",
      " |-- pass_oth_st_g: integer (nullable = true)\n",
      " |-- pass_oth_obc_b: integer (nullable = true)\n",
      " |-- pass_oth_obc_g: integer (nullable = true)\n",
      " |-- tchug_r_m: integer (nullable = true)\n",
      " |-- tchgrad_r_m: integer (nullable = true)\n",
      " |-- tchpg_r_m: integer (nullable = true)\n",
      " |-- tchphd_r_m: integer (nullable = true)\n",
      " |-- tchpd_r_m: integer (nullable = true)\n",
      " |-- tchnr_r_m: integer (nullable = true)\n",
      " |-- tchug_r_f: integer (nullable = true)\n",
      " |-- tchgrad_r_f: integer (nullable = true)\n",
      " |-- tchpg_r_f: integer (nullable = true)\n",
      " |-- tchphd_r_f: integer (nullable = true)\n",
      " |-- tchpd_r_f: integer (nullable = true)\n",
      " |-- tchnr_r_f: integer (nullable = true)\n",
      " |-- tchug_r_nr: integer (nullable = true)\n",
      " |-- tchgrad_r_nr: integer (nullable = true)\n",
      " |-- tchpg_r_nr: integer (nullable = true)\n",
      " |-- tchphd_r_nr: integer (nullable = true)\n",
      " |-- tchpd_r_nr: integer (nullable = true)\n",
      " |-- tchnr_r_nr: integer (nullable = true)\n",
      " |-- tchug_p_m: integer (nullable = true)\n",
      " |-- tchgrad_p_m: integer (nullable = true)\n",
      " |-- tchpg_p_m: integer (nullable = true)\n",
      " |-- tchphd_p_m: integer (nullable = true)\n",
      " |-- tchpd_p_m: integer (nullable = true)\n",
      " |-- tchnr_p_m: integer (nullable = true)\n",
      " |-- tchug_p_f: integer (nullable = true)\n",
      " |-- tchgrad_p_f: integer (nullable = true)\n",
      " |-- tchpg_p_f: integer (nullable = true)\n",
      " |-- tchphd_p_f: integer (nullable = true)\n",
      " |-- tchpd_p_f: integer (nullable = true)\n",
      " |-- tchnr_p_f: integer (nullable = true)\n",
      " |-- tchug_p_nr: integer (nullable = true)\n",
      " |-- tchgrad_p_nr: integer (nullable = true)\n",
      " |-- tchpg_p_nr: integer (nullable = true)\n",
      " |-- tchphd_p_nr: integer (nullable = true)\n",
      " |-- tchpd_p_nr: integer (nullable = true)\n",
      " |-- tchnr_p_nr: integer (nullable = true)\n",
      " |-- tchbtt_m: integer (nullable = true)\n",
      " |-- tchbed_m: integer (nullable = true)\n",
      " |-- tchmed_m: integer (nullable = true)\n",
      " |-- tchoth_m: integer (nullable = true)\n",
      " |-- tchse_m: integer (nullable = true)\n",
      " |-- tchnr_m: integer (nullable = true)\n",
      " |-- tchbtt_f: integer (nullable = true)\n",
      " |-- tchbed_f: integer (nullable = true)\n",
      " |-- tchmed_f: integer (nullable = true)\n",
      " |-- tchoth_f: integer (nullable = true)\n",
      " |-- tchse_f: integer (nullable = true)\n",
      " |-- tchnr_f: integer (nullable = true)\n",
      " |-- tchbtt_nr: string (nullable = true)\n",
      " |-- tchbed_nr: string (nullable = true)\n",
      " |-- tchmed_nr: string (nullable = true)\n",
      " |-- tchoth_nr: string (nullable = true)\n",
      " |-- tchse_nr: string (nullable = true)\n",
      " |-- tchnr_nr: string (nullable = true)\n",
      " |-- enrc7_py: integer (nullable = true)\n",
      " |-- enrc8_py: integer (nullable = true)\n",
      " |-- enrc9_py: integer (nullable = true)\n",
      " |-- enrc10_py: integer (nullable = true)\n",
      " |-- enr11_py: integer (nullable = true)\n",
      " |-- enr12_py: integer (nullable = true)\n",
      "\n"
     ]
    }
   ],
   "source": [
    "school.printSchema()"
   ]
  },
  {
   "cell_type": "code",
   "execution_count": 3,
   "metadata": {
    "scrolled": false
   },
   "outputs": [
    {
     "name": "stdout",
     "output_type": "stream",
     "text": [
      "+------+--------------------+\n",
      "|statcd|            statname|\n",
      "+------+--------------------+\n",
      "|     1|   JAMMU AND KASHMIR|\n",
      "|     2|    HIMACHAL PRADESH|\n",
      "|     3|              PUNJAB|\n",
      "|     4|          CHANDIGARH|\n",
      "|     5|         UTTARAKHAND|\n",
      "|     6|             HARYANA|\n",
      "|     7|               DELHI|\n",
      "|     8|           RAJASTHAN|\n",
      "|     9|       UTTAR PRADESH|\n",
      "|    10|               BIHAR|\n",
      "|    11|              SIKKIM|\n",
      "|    12|   ARUNACHAL PRADESH|\n",
      "|    13|            NAGALAND|\n",
      "|    14|             MANIPUR|\n",
      "|    15|             MIZORAM|\n",
      "|    16|             TRIPURA|\n",
      "|    17|           MEGHALAYA|\n",
      "|    18|               ASSAM|\n",
      "|    19|         WEST BENGAL|\n",
      "|    20|           JHARKHAND|\n",
      "|    21|              ODISHA|\n",
      "|    22|        CHHATTISGARH|\n",
      "|    23|      MADHYA PRADESH|\n",
      "|    24|             GUJARAT|\n",
      "|    25|         DAMAN & DIU|\n",
      "|    26|DADRA & NAGAR HAVELI|\n",
      "|    27|         MAHARASHTRA|\n",
      "|    28|      ANDHRA PRADESH|\n",
      "|    29|           KARNATAKA|\n",
      "|    30|                 GOA|\n",
      "|    31|         LAKSHADWEEP|\n",
      "|    32|              KERALA|\n",
      "|    33|          TAMIL NADU|\n",
      "|    34|          PUDUCHERRY|\n",
      "|    35|ANDAMAN & NICOBAR...|\n",
      "|    36|           TELANGANA|\n",
      "+------+--------------------+\n",
      "\n"
     ]
    }
   ],
   "source": [
    "df5.select('statcd','statname').show(300) "
   ]
  },
  {
   "cell_type": "markdown",
   "metadata": {},
   "source": [
    "# Data Preparation"
   ]
  },
  {
   "cell_type": "code",
   "execution_count": 4,
   "metadata": {},
   "outputs": [
    {
     "name": "stdout",
     "output_type": "stream",
     "text": [
      "+------------+\n",
      "|school_total|\n",
      "+------------+\n",
      "|        3923|\n",
      "|        3343|\n",
      "|        8892|\n",
      "|         145|\n",
      "|        3240|\n",
      "|        7450|\n",
      "|        1965|\n",
      "|       24357|\n",
      "|       22194|\n",
      "|        5819|\n",
      "|         195|\n",
      "|         357|\n",
      "|         716|\n",
      "|        1053|\n",
      "|         711|\n",
      "|         943|\n",
      "|        1136|\n",
      "|        7298|\n",
      "|        9773|\n",
      "|        4376|\n",
      "+------------+\n",
      "only showing top 20 rows\n",
      "\n"
     ]
    }
   ],
   "source": [
    "#3\n",
    "#creating new colum 'school_total' for calculating total number of schools\n",
    "school = school.withColumn('school_total', school['sch_1']+school['sch_2']+school['sch_3']+school['sch_4']+school['sch_5']+school['sch_6']+school['sch_7'])\n",
    "school.select('school_total').show()"
   ]
  },
  {
   "cell_type": "code",
   "execution_count": 5,
   "metadata": {},
   "outputs": [
    {
     "name": "stdout",
     "output_type": "stream",
     "text": [
      "+------------------+\n",
      "|      pass_percent|\n",
      "+------------------+\n",
      "|57.114158779215764|\n",
      "| 75.63739376770539|\n",
      "| 90.54269483799986|\n",
      "| 97.88510296209265|\n",
      "| 76.55706479313037|\n",
      "| 73.38238699938334|\n",
      "| 99.37974102526937|\n",
      "| 66.24036378278625|\n",
      "| 85.90893886151161|\n",
      "| 71.80797688819882|\n",
      "|              null|\n",
      "| 88.14009159034138|\n",
      "| 73.81625139138625|\n",
      "|  83.3807543590866|\n",
      "| 79.60159362549801|\n",
      "|63.960146216801995|\n",
      "| 73.17316366744218|\n",
      "| 69.41011310830142|\n",
      "|  82.6755083851103|\n",
      "| 74.12998179947193|\n",
      "+------------------+\n",
      "only showing top 20 rows\n",
      "\n"
     ]
    }
   ],
   "source": [
    "#4\n",
    "school = school.withColumn('appear_total',school['apr_b_gen_py10']+school['apr_g_gen_py10']+school['apr_b_sc_py10']+school['apr_g_sc_py10']+school['apr_b_st_py10']+school['apr_g_st_py10']+school['apr_b_obc_py10']+school['apr_g_obc_py10'])\n",
    "school = school.withColumn('pass_total',school['pass_b_gen_py10']+school['pass_g_gen_py10']+school['pass_b_sc_py10']+school['pass_g_sc_py10']+school['pass_b_st_py10']+school['pass_g_st_py10']+school['pass_b_obc_py10']+school['pass_g_obc_py10'])\n",
    "school = school.withColumn('pass_percent',school['pass_total']/school['appear_total']*100)\n",
    "school.select('pass_percent').show()"
   ]
  },
  {
   "cell_type": "code",
   "execution_count": 34,
   "metadata": {},
   "outputs": [
    {
     "name": "stdout",
     "output_type": "stream",
     "text": [
      "+--------------------+\n",
      "|            statname|\n",
      "+--------------------+\n",
      "|JAMMU AND KASHMIR...|\n",
      "|HIMACHAL PRADESH ...|\n",
      "|PUNJAB           ...|\n",
      "|CHANDIGARH       ...|\n",
      "|UTTARAKHAND      ...|\n",
      "|HARYANA          ...|\n",
      "|DELHI            ...|\n",
      "|RAJASTHAN        ...|\n",
      "|UTTAR PRADESH    ...|\n",
      "|BIHAR            ...|\n",
      "|SIKKIM           ...|\n",
      "|ARUNACHAL PRADESH...|\n",
      "|NAGALAND         ...|\n",
      "|MANIPUR          ...|\n",
      "|MIZORAM          ...|\n",
      "|TRIPURA          ...|\n",
      "|MEGHALAYA        ...|\n",
      "|ASSAM            ...|\n",
      "|WEST BENGAL      ...|\n",
      "|JHARKHAND        ...|\n",
      "+--------------------+\n",
      "only showing top 20 rows\n",
      "\n"
     ]
    }
   ],
   "source": [
    "school.select('statname').show()"
   ]
  },
  {
   "cell_type": "code",
   "execution_count": 6,
   "metadata": {},
   "outputs": [
    {
     "data": {
      "text/plain": [
       "['ac_year',\n",
       " 'statname',\n",
       " 'literacy_rate',\n",
       " 'male_literacy_rate',\n",
       " 'female_literacy_rate',\n",
       " 'tot_population',\n",
       " 'urban_population',\n",
       " 'sexratio',\n",
       " 'school_total',\n",
       " 'bldg_all',\n",
       " 'girls_toilet_all',\n",
       " 'boys_toilet_all',\n",
       " 'cwsn_toilet_all',\n",
       " 'water_all',\n",
       " 'electric_all',\n",
       " 'ramps_all',\n",
       " 'library_all',\n",
       " 'librarian_all',\n",
       " 'bndrywall_all',\n",
       " 'cwsn_sch_all',\n",
       " 'lab_asst_all',\n",
       " 'hmroom_all',\n",
       " 'internet_all',\n",
       " 'ict_lab_all',\n",
       " 'pground_all',\n",
       " 'medchk_all',\n",
       " 'smdc_all',\n",
       " 'sch_bld_com_all',\n",
       " 'pta_all',\n",
       " 'sch_2006_all',\n",
       " 'pass_percent']"
      ]
     },
     "execution_count": 6,
     "metadata": {},
     "output_type": "execute_result"
    }
   ],
   "source": [
    "#5 updated dataset\n",
    "school = school.select(\"ac_year\" , \"statname\" , \"literacy_rate\" , \"male_literacy_rate\" ,\n",
    "                       \"female_literacy_rate\" , \"tot_population\" , \"urban_population\" ,\n",
    "                       \"sexratio\" , \"school_total\" , \"bldg_all\" , \"girls_toilet_all\" , \n",
    "                       \"boys_toilet_all\" , \"cwsn_toilet_all\" , \"water_all\" ,\"electric_all\" , \n",
    "                       \"ramps_all\" , \"library_all\" , \"librarian_all\" , \"bndrywall_all\" ,\n",
    "                       \"cwsn_sch_all\" , \"lab_asst_all\" , \"hmroom_all\" , \"internet_all\" , \n",
    "                       \"ict_lab_all\" ,\"pground_all\" , \"medchk_all\" , \"smdc_all\" , \n",
    "                       \"sch_bld_com_all\" , \"pta_all\" ,\"sch_2006_all\" , \"pass_percent\")\n",
    "school.columns"
   ]
  },
  {
   "cell_type": "code",
   "execution_count": 26,
   "metadata": {},
   "outputs": [
    {
     "name": "stdout",
     "output_type": "stream",
     "text": [
      "+--------------------+-------+\n",
      "|            statname|ac_year|\n",
      "+--------------------+-------+\n",
      "|   JAMMU AND KASHMIR|2012-13|\n",
      "|    HIMACHAL PRADESH|2012-13|\n",
      "|              PUNJAB|2012-13|\n",
      "|          CHANDIGARH|2012-13|\n",
      "|         UTTARAKHAND|2012-13|\n",
      "|             HARYANA|2012-13|\n",
      "|               DELHI|2012-13|\n",
      "|           RAJASTHAN|2012-13|\n",
      "|       UTTAR PRADESH|2012-13|\n",
      "|               BIHAR|2012-13|\n",
      "|              SIKKIM|2012-13|\n",
      "|   ARUNACHAL PRADESH|2012-13|\n",
      "|            NAGALAND|2012-13|\n",
      "|             MANIPUR|2012-13|\n",
      "|             MIZORAM|2012-13|\n",
      "|             TRIPURA|2012-13|\n",
      "|           MEGHALAYA|2012-13|\n",
      "|               ASSAM|2012-13|\n",
      "|         WEST BENGAL|2012-13|\n",
      "|           JHARKHAND|2012-13|\n",
      "|              ODISHA|2012-13|\n",
      "|        CHHATTISGARH|2012-13|\n",
      "|      MADHYA PRADESH|2012-13|\n",
      "|             GUJARAT|2012-13|\n",
      "|         DAMAN & DIU|2012-13|\n",
      "|DADRA & NAGAR HAVELI|2012-13|\n",
      "|         MAHARASHTRA|2012-13|\n",
      "|      ANDHRA PRADESH|2012-13|\n",
      "|           KARNATAKA|2012-13|\n",
      "|                 GOA|2012-13|\n",
      "|         LAKSHADWEEP|2012-13|\n",
      "|              KERALA|2012-13|\n",
      "|          TAMIL NADU|2012-13|\n",
      "|          PUDUCHERRY|2012-13|\n",
      "|ANDAMAN & NICOBAR...|2012-13|\n",
      "|   JAMMU AND KASHMIR|2013-14|\n",
      "|    HIMACHAL PRADESH|2013-14|\n",
      "|              PUNJAB|2013-14|\n",
      "|          CHANDIGARH|2013-14|\n",
      "|         UTTARAKHAND|2013-14|\n",
      "|             HARYANA|2013-14|\n",
      "|               DELHI|2013-14|\n",
      "|           RAJASTHAN|2013-14|\n",
      "|       UTTAR PRADESH|2013-14|\n",
      "|               BIHAR|2013-14|\n",
      "|              SIKKIM|2013-14|\n",
      "|   ARUNACHAL PRADESH|2013-14|\n",
      "|            NAGALAND|2013-14|\n",
      "|             MANIPUR|2013-14|\n",
      "|             MIZORAM|2013-14|\n",
      "|             TRIPURA|2013-14|\n",
      "|           MEGHALAYA|2013-14|\n",
      "|               ASSAM|2013-14|\n",
      "|         WEST BENGAL|2013-14|\n",
      "|           JHARKHAND|2013-14|\n",
      "|              ODISHA|2013-14|\n",
      "|        CHHATTISGARH|2013-14|\n",
      "|      MADHYA PRADESH|2013-14|\n",
      "|             GUJARAT|2013-14|\n",
      "|         DAMAN & DIU|2013-14|\n",
      "|DADRA & NAGAR HAVELI|2013-14|\n",
      "|         MAHARASHTRA|2013-14|\n",
      "|      ANDHRA PRADESH|2013-14|\n",
      "|           KARNATAKA|2013-14|\n",
      "|                 GOA|2013-14|\n",
      "|         LAKSHADWEEP|2013-14|\n",
      "|              KERALA|2013-14|\n",
      "|          TAMIL NADU|2013-14|\n",
      "|          PUDUCHERRY|2013-14|\n",
      "|ANDAMAN & NICOBAR...|2013-14|\n",
      "|   JAMMU AND KASHMIR|2014-15|\n",
      "|    HIMACHAL PRADESH|2014-15|\n",
      "|              PUNJAB|2014-15|\n",
      "|          CHANDIGARH|2014-15|\n",
      "|         UTTARAKHAND|2014-15|\n",
      "|             HARYANA|2014-15|\n",
      "|               DELHI|2014-15|\n",
      "|           RAJASTHAN|2014-15|\n",
      "|       UTTAR PRADESH|2014-15|\n",
      "|               BIHAR|2014-15|\n",
      "|              SIKKIM|2014-15|\n",
      "|   ARUNACHAL PRADESH|2014-15|\n",
      "|            NAGALAND|2014-15|\n",
      "|             MANIPUR|2014-15|\n",
      "|             MIZORAM|2014-15|\n",
      "|             TRIPURA|2014-15|\n",
      "|           MEGHALAYA|2014-15|\n",
      "|               ASSAM|2014-15|\n",
      "|         WEST BENGAL|2014-15|\n",
      "|           JHARKHAND|2014-15|\n",
      "|              ODISHA|2014-15|\n",
      "|        CHHATTISGARH|2014-15|\n",
      "|      MADHYA PRADESH|2014-15|\n",
      "|             GUJARAT|2014-15|\n",
      "|         DAMAN & DIU|2014-15|\n",
      "|DADRA & NAGAR HAVELI|2014-15|\n",
      "|         MAHARASHTRA|2014-15|\n",
      "|      ANDHRA PRADESH|2014-15|\n",
      "|           KARNATAKA|2014-15|\n",
      "|                 GOA|2014-15|\n",
      "|         LAKSHADWEEP|2014-15|\n",
      "|              KERALA|2014-15|\n",
      "|          TAMIL NADU|2014-15|\n",
      "|          PUDUCHERRY|2014-15|\n",
      "|ANDAMAN & NICOBAR...|2014-15|\n",
      "|           TELANGANA|2014-15|\n",
      "|   JAMMU AND KASHMIR|2015-16|\n",
      "|    HIMACHAL PRADESH|2015-16|\n",
      "|              PUNJAB|2015-16|\n",
      "|          CHANDIGARH|2015-16|\n",
      "|         UTTARAKHAND|2015-16|\n",
      "|             HARYANA|2015-16|\n",
      "|               DELHI|2015-16|\n",
      "|           RAJASTHAN|2015-16|\n",
      "|       UTTAR PRADESH|2015-16|\n",
      "|               BIHAR|2015-16|\n",
      "|              SIKKIM|2015-16|\n",
      "|   ARUNACHAL PRADESH|2015-16|\n",
      "|            NAGALAND|2015-16|\n",
      "|             MANIPUR|2015-16|\n",
      "|             MIZORAM|2015-16|\n",
      "|             TRIPURA|2015-16|\n",
      "|           MEGHALAYA|2015-16|\n",
      "|               ASSAM|2015-16|\n",
      "|         WEST BENGAL|2015-16|\n",
      "|           JHARKHAND|2015-16|\n",
      "|              ODISHA|2015-16|\n",
      "|        CHHATTISGARH|2015-16|\n",
      "|      MADHYA PRADESH|2015-16|\n",
      "|             GUJARAT|2015-16|\n",
      "|         DAMAN & DIU|2015-16|\n",
      "|DADRA & NAGAR HAVELI|2015-16|\n",
      "|         MAHARASHTRA|2015-16|\n",
      "|      ANDHRA PRADESH|2015-16|\n",
      "|           KARNATAKA|2015-16|\n",
      "|                 GOA|2015-16|\n",
      "|         LAKSHADWEEP|2015-16|\n",
      "|              KERALA|2015-16|\n",
      "|          TAMIL NADU|2015-16|\n",
      "|          PUDUCHERRY|2015-16|\n",
      "|ANDAMAN & NICOBAR...|2015-16|\n",
      "|           TELANGANA|2015-16|\n",
      "|   JAMMU AND KASHMIR|2016-17|\n",
      "|    HIMACHAL PRADESH|2016-17|\n",
      "|              PUNJAB|2016-17|\n",
      "|          CHANDIGARH|2016-17|\n",
      "|         UTTARAKHAND|2016-17|\n",
      "|             HARYANA|2016-17|\n",
      "|               DELHI|2016-17|\n",
      "|           RAJASTHAN|2016-17|\n",
      "|       UTTAR PRADESH|2016-17|\n",
      "|               BIHAR|2016-17|\n",
      "|              SIKKIM|2016-17|\n",
      "|   ARUNACHAL PRADESH|2016-17|\n",
      "|            NAGALAND|2016-17|\n",
      "|             MANIPUR|2016-17|\n",
      "|             MIZORAM|2016-17|\n",
      "|             TRIPURA|2016-17|\n",
      "|           MEGHALAYA|2016-17|\n",
      "|               ASSAM|2016-17|\n",
      "|         WEST BENGAL|2016-17|\n",
      "|           JHARKHAND|2016-17|\n",
      "|              ODISHA|2016-17|\n",
      "|        CHHATTISGARH|2016-17|\n",
      "|      MADHYA PRADESH|2016-17|\n",
      "|             GUJARAT|2016-17|\n",
      "|         DAMAN & DIU|2016-17|\n",
      "|DADRA & NAGAR HAVELI|2016-17|\n",
      "|         MAHARASHTRA|2016-17|\n",
      "|      ANDHRA PRADESH|2016-17|\n",
      "|           KARNATAKA|2016-17|\n",
      "|                 GOA|2016-17|\n",
      "|         LAKSHADWEEP|2016-17|\n",
      "|              KERALA|2016-17|\n",
      "|          TAMIL NADU|2016-17|\n",
      "|          PUDUCHERRY|2016-17|\n",
      "|ANDAMAN & NICOBAR...|2016-17|\n",
      "|           TELANGANA|2016-17|\n",
      "+--------------------+-------+\n",
      "\n"
     ]
    }
   ],
   "source": [
    "school.select('statname', 'ac_year').show(300)"
   ]
  },
  {
   "cell_type": "code",
   "execution_count": 7,
   "metadata": {},
   "outputs": [],
   "source": [
    "#6\n",
    "import pyspark.sql.functions as F\n",
    "from functools import reduce"
   ]
  },
  {
   "cell_type": "code",
   "execution_count": 8,
   "metadata": {},
   "outputs": [],
   "source": [
    "#to find count of null values column-wise\n",
    "school_null_count = reduce(\n",
    "    lambda a, b: a.union(b),\n",
    "    (\n",
    "        school.agg(\n",
    "            F.count(F.when(F.isnull(c), c)).alias('NULL_Count')\n",
    "        ).select(F.lit(c).alias(\"Column_Name\"), \"NULL_Count\")\n",
    "        for c in school.columns\n",
    "    )\n",
    ")"
   ]
  },
  {
   "cell_type": "code",
   "execution_count": 9,
   "metadata": {},
   "outputs": [
    {
     "name": "stdout",
     "output_type": "stream",
     "text": [
      "+--------------------+----------+\n",
      "|         Column_Name|NULL_Count|\n",
      "+--------------------+----------+\n",
      "|             ac_year|         0|\n",
      "|            statname|         0|\n",
      "|       literacy_rate|         2|\n",
      "|  male_literacy_rate|         2|\n",
      "|female_literacy_rate|         2|\n",
      "|      tot_population|         2|\n",
      "|    urban_population|         2|\n",
      "|            sexratio|         2|\n",
      "|        school_total|         0|\n",
      "|            bldg_all|         0|\n",
      "|    girls_toilet_all|         0|\n",
      "|     boys_toilet_all|        35|\n",
      "|     cwsn_toilet_all|         0|\n",
      "|           water_all|         0|\n",
      "|        electric_all|         0|\n",
      "|           ramps_all|         0|\n",
      "|         library_all|         0|\n",
      "|       librarian_all|         0|\n",
      "|       bndrywall_all|         0|\n",
      "|        cwsn_sch_all|         5|\n",
      "|        lab_asst_all|         5|\n",
      "|          hmroom_all|         0|\n",
      "|        internet_all|         0|\n",
      "|         ict_lab_all|         0|\n",
      "|         pground_all|        35|\n",
      "|          medchk_all|        35|\n",
      "|            smdc_all|         0|\n",
      "|     sch_bld_com_all|         0|\n",
      "|             pta_all|         0|\n",
      "|        sch_2006_all|         2|\n",
      "|        pass_percent|         4|\n",
      "+--------------------+----------+\n",
      "\n"
     ]
    }
   ],
   "source": [
    "school_null_count.show(100)"
   ]
  },
  {
   "cell_type": "code",
   "execution_count": 33,
   "metadata": {},
   "outputs": [
    {
     "name": "stdout",
     "output_type": "stream",
     "text": [
      "+-------+---------------+-----------+----------+\n",
      "|ac_year|boys_toilet_all|pground_all|medchk_all|\n",
      "+-------+---------------+-----------+----------+\n",
      "|2012-13|           null|       null|      null|\n",
      "|2012-13|           null|       null|      null|\n",
      "|2012-13|           null|       null|      null|\n",
      "|2012-13|           null|       null|      null|\n",
      "|2012-13|           null|       null|      null|\n",
      "|2012-13|           null|       null|      null|\n",
      "|2012-13|           null|       null|      null|\n",
      "|2012-13|           null|       null|      null|\n",
      "|2012-13|           null|       null|      null|\n",
      "|2012-13|           null|       null|      null|\n",
      "|2012-13|           null|       null|      null|\n",
      "|2012-13|           null|       null|      null|\n",
      "|2012-13|           null|       null|      null|\n",
      "|2012-13|           null|       null|      null|\n",
      "|2012-13|           null|       null|      null|\n",
      "|2012-13|           null|       null|      null|\n",
      "|2012-13|           null|       null|      null|\n",
      "|2012-13|           null|       null|      null|\n",
      "|2012-13|           null|       null|      null|\n",
      "|2012-13|           null|       null|      null|\n",
      "|2012-13|           null|       null|      null|\n",
      "|2012-13|           null|       null|      null|\n",
      "|2012-13|           null|       null|      null|\n",
      "|2012-13|           null|       null|      null|\n",
      "|2012-13|           null|       null|      null|\n",
      "|2012-13|           null|       null|      null|\n",
      "|2012-13|           null|       null|      null|\n",
      "|2012-13|           null|       null|      null|\n",
      "|2012-13|           null|       null|      null|\n",
      "|2012-13|           null|       null|      null|\n",
      "|2012-13|           null|       null|      null|\n",
      "|2012-13|           null|       null|      null|\n",
      "|2012-13|           null|       null|      null|\n",
      "|2012-13|           null|       null|      null|\n",
      "|2012-13|           null|       null|      null|\n",
      "+-------+---------------+-----------+----------+\n",
      "\n"
     ]
    }
   ],
   "source": [
    "school.filter(school['ac_year'] == '2012-13').select('ac_year','boys_toilet_all','pground_all','medchk_all').show(100)"
   ]
  },
  {
   "cell_type": "code",
   "execution_count": 10,
   "metadata": {},
   "outputs": [
    {
     "name": "stdout",
     "output_type": "stream",
     "text": [
      "root\n",
      " |-- ac_year: string (nullable = true)\n",
      " |-- statname: string (nullable = true)\n",
      " |-- literacy_rate: double (nullable = true)\n",
      " |-- male_literacy_rate: double (nullable = true)\n",
      " |-- female_literacy_rate: double (nullable = true)\n",
      " |-- tot_population: double (nullable = true)\n",
      " |-- urban_population: double (nullable = true)\n",
      " |-- sexratio: integer (nullable = true)\n",
      " |-- school_total: integer (nullable = true)\n",
      " |-- bldg_all: integer (nullable = true)\n",
      " |-- girls_toilet_all: double (nullable = true)\n",
      " |-- boys_toilet_all: string (nullable = true)\n",
      " |-- cwsn_toilet_all: integer (nullable = true)\n",
      " |-- water_all: integer (nullable = true)\n",
      " |-- electric_all: integer (nullable = true)\n",
      " |-- ramps_all: integer (nullable = true)\n",
      " |-- library_all: integer (nullable = true)\n",
      " |-- librarian_all: integer (nullable = true)\n",
      " |-- bndrywall_all: integer (nullable = true)\n",
      " |-- cwsn_sch_all: integer (nullable = true)\n",
      " |-- lab_asst_all: integer (nullable = true)\n",
      " |-- hmroom_all: integer (nullable = true)\n",
      " |-- internet_all: integer (nullable = true)\n",
      " |-- ict_lab_all: integer (nullable = true)\n",
      " |-- pground_all: string (nullable = true)\n",
      " |-- medchk_all: string (nullable = true)\n",
      " |-- smdc_all: integer (nullable = true)\n",
      " |-- sch_bld_com_all: integer (nullable = true)\n",
      " |-- pta_all: integer (nullable = true)\n",
      " |-- sch_2006_all: integer (nullable = true)\n",
      " |-- pass_percent: double (nullable = true)\n",
      "\n"
     ]
    }
   ],
   "source": [
    "school.printSchema()"
   ]
  },
  {
   "cell_type": "code",
   "execution_count": 8,
   "metadata": {},
   "outputs": [
    {
     "name": "stdout",
     "output_type": "stream",
     "text": [
      "root\n",
      " |-- ac_year: string (nullable = true)\n",
      " |-- statname: string (nullable = true)\n",
      " |-- literacy_rate: double (nullable = true)\n",
      " |-- male_literacy_rate: double (nullable = true)\n",
      " |-- female_literacy_rate: double (nullable = true)\n",
      " |-- tot_population: double (nullable = true)\n",
      " |-- urban_population: double (nullable = true)\n",
      " |-- sexratio: integer (nullable = true)\n",
      " |-- school_total: integer (nullable = true)\n",
      " |-- bldg_all: integer (nullable = true)\n",
      " |-- girls_toilet_all: double (nullable = true)\n",
      " |-- boys_toilet_all: integer (nullable = true)\n",
      " |-- cwsn_toilet_all: integer (nullable = true)\n",
      " |-- water_all: integer (nullable = true)\n",
      " |-- electric_all: integer (nullable = true)\n",
      " |-- ramps_all: integer (nullable = true)\n",
      " |-- library_all: integer (nullable = true)\n",
      " |-- librarian_all: integer (nullable = true)\n",
      " |-- bndrywall_all: integer (nullable = true)\n",
      " |-- cwsn_sch_all: integer (nullable = true)\n",
      " |-- lab_asst_all: integer (nullable = true)\n",
      " |-- hmroom_all: integer (nullable = true)\n",
      " |-- internet_all: integer (nullable = true)\n",
      " |-- ict_lab_all: integer (nullable = true)\n",
      " |-- pground_all: integer (nullable = true)\n",
      " |-- medchk_all: integer (nullable = true)\n",
      " |-- smdc_all: integer (nullable = true)\n",
      " |-- sch_bld_com_all: integer (nullable = true)\n",
      " |-- pta_all: integer (nullable = true)\n",
      " |-- sch_2006_all: integer (nullable = true)\n",
      " |-- pass_percent: double (nullable = true)\n",
      "\n"
     ]
    }
   ],
   "source": [
    "#7 Changing datatype of numeric values (from string to int)\n",
    "from pyspark.sql.types import IntegerType\n",
    "school = school.withColumn(\"pground_all\", school[\"pground_all\"].cast(IntegerType()))\n",
    "school = school.withColumn(\"boys_toilet_all\", school[\"boys_toilet_all\"].cast(IntegerType()))\n",
    "school = school.withColumn(\"medchk_all\", school[\"medchk_all\"].cast(IntegerType()))\n",
    "school.printSchema()"
   ]
  },
  {
   "cell_type": "code",
   "execution_count": 9,
   "metadata": {},
   "outputs": [],
   "source": [
    "#8\n",
    "from pyspark.sql.functions import mean"
   ]
  },
  {
   "cell_type": "code",
   "execution_count": 9,
   "metadata": {},
   "outputs": [],
   "source": [
    "#Finding the mean of column pground_all\n",
    "mean_value = school.select(mean(school['pground_all'])).collect()\n",
    "\n",
    "#filling the missing value with the mean.\n",
    "mean_pground_value = mean_value[0][0]\n",
    "school_na = school.na.fill(mean_pground_value, subset=['pground_all'])"
   ]
  },
  {
   "cell_type": "code",
   "execution_count": 16,
   "metadata": {},
   "outputs": [
    {
     "name": "stdout",
     "output_type": "stream",
     "text": [
      "+-------+--------------------+-----------+\n",
      "|ac_year|            statname|pground_all|\n",
      "+-------+--------------------+-----------+\n",
      "|2012-13|   JAMMU AND KASHMIR|       5379|\n",
      "|2012-13|    HIMACHAL PRADESH|       5379|\n",
      "|2012-13|              PUNJAB|       5379|\n",
      "|2012-13|          CHANDIGARH|       5379|\n",
      "|2012-13|         UTTARAKHAND|       5379|\n",
      "|2012-13|             HARYANA|       5379|\n",
      "|2012-13|               DELHI|       5379|\n",
      "|2012-13|           RAJASTHAN|       5379|\n",
      "|2012-13|       UTTAR PRADESH|       5379|\n",
      "|2012-13|               BIHAR|       5379|\n",
      "|2012-13|              SIKKIM|       5379|\n",
      "|2012-13|   ARUNACHAL PRADESH|       5379|\n",
      "|2012-13|            NAGALAND|       5379|\n",
      "|2012-13|             MANIPUR|       5379|\n",
      "|2012-13|             MIZORAM|       5379|\n",
      "|2012-13|             TRIPURA|       5379|\n",
      "|2012-13|           MEGHALAYA|       5379|\n",
      "|2012-13|               ASSAM|       5379|\n",
      "|2012-13|         WEST BENGAL|       5379|\n",
      "|2012-13|           JHARKHAND|       5379|\n",
      "|2012-13|              ODISHA|       5379|\n",
      "|2012-13|        CHHATTISGARH|       5379|\n",
      "|2012-13|      MADHYA PRADESH|       5379|\n",
      "|2012-13|             GUJARAT|       5379|\n",
      "|2012-13|         DAMAN & DIU|       5379|\n",
      "|2012-13|DADRA & NAGAR HAVELI|       5379|\n",
      "|2012-13|         MAHARASHTRA|       5379|\n",
      "|2012-13|      ANDHRA PRADESH|       5379|\n",
      "|2012-13|           KARNATAKA|       5379|\n",
      "|2012-13|                 GOA|       5379|\n",
      "|2012-13|         LAKSHADWEEP|       5379|\n",
      "|2012-13|              KERALA|       5379|\n",
      "|2012-13|          TAMIL NADU|       5379|\n",
      "|2012-13|          PUDUCHERRY|       5379|\n",
      "|2012-13|ANDAMAN & NICOBAR...|       5379|\n",
      "+-------+--------------------+-----------+\n",
      "\n"
     ]
    }
   ],
   "source": [
    "school_na.filter(school_na['ac_year'] == '2012-13').select('ac_year','statname','pground_all').show(100)"
   ]
  },
  {
   "cell_type": "code",
   "execution_count": 88,
   "metadata": {
    "scrolled": true
   },
   "outputs": [
    {
     "name": "stdout",
     "output_type": "stream",
     "text": [
      "+-------+-----------------+-----------+\n",
      "|ac_year|         statname|pground_all|\n",
      "+-------+-----------------+-----------+\n",
      "|2012-13|JAMMU AND KASHMIR|       null|\n",
      "|2013-14|JAMMU AND KASHMIR|       3122|\n",
      "|2014-15|JAMMU AND KASHMIR|       3219|\n",
      "|2015-16|JAMMU AND KASHMIR|       3235|\n",
      "|2016-17|JAMMU AND KASHMIR|       3280|\n",
      "+-------+-----------------+-----------+\n",
      "\n"
     ]
    }
   ],
   "source": [
    "school.createOrReplaceTempView('school')\n",
    "result=spark.sql(\"select ac_year, statname, pground_all from school where statname='JAMMU AND KASHMIR'\")\n",
    "result.show()"
   ]
  },
  {
   "cell_type": "markdown",
   "metadata": {},
   "source": [
    "# Processing Null Values"
   ]
  },
  {
   "cell_type": "code",
   "execution_count": 10,
   "metadata": {},
   "outputs": [],
   "source": [
    "#9\n",
    "# Replacing null values as a mean of a group\n",
    "from pyspark.sql.functions import avg, col, when\n",
    "from pyspark.sql.window import Window\n",
    "\n",
    "w = Window().partitionBy('statname')\n",
    "for i in school.columns:\n",
    "    school = school.withColumn(i,when(col(i).isNull(),avg(col(i)).over(w)).otherwise(col(i)))\n",
    "    "
   ]
  },
  {
   "cell_type": "code",
   "execution_count": 90,
   "metadata": {},
   "outputs": [
    {
     "name": "stdout",
     "output_type": "stream",
     "text": [
      "+-------+-----------------+-----------+\n",
      "|ac_year|         statname|pground_all|\n",
      "+-------+-----------------+-----------+\n",
      "|2012-13|JAMMU AND KASHMIR|     3214.0|\n",
      "|2013-14|JAMMU AND KASHMIR|     3122.0|\n",
      "|2014-15|JAMMU AND KASHMIR|     3219.0|\n",
      "|2015-16|JAMMU AND KASHMIR|     3235.0|\n",
      "|2016-17|JAMMU AND KASHMIR|     3280.0|\n",
      "+-------+-----------------+-----------+\n",
      "\n"
     ]
    }
   ],
   "source": [
    "school.createOrReplaceTempView('school')\n",
    "result=spark.sql(\"select ac_year, statname, pground_all from school where statname='JAMMU AND KASHMIR'\")\n",
    "result.show()"
   ]
  },
  {
   "cell_type": "code",
   "execution_count": 67,
   "metadata": {},
   "outputs": [
    {
     "name": "stdout",
     "output_type": "stream",
     "text": [
      "+-------+--------------------+---------------+-----------+----------+\n",
      "|ac_year|            statname|boys_toilet_all|pground_all|medchk_all|\n",
      "+-------+--------------------+---------------+-----------+----------+\n",
      "|2012-13|              SIKKIM|         214.25|     187.75|    204.25|\n",
      "|2012-13|           MEGHALAYA|        1019.75|      812.0|     472.0|\n",
      "|2012-13|         WEST BENGAL|         8350.0|     6466.5|    6179.0|\n",
      "|2012-13|         DAMAN & DIU|           39.0|      29.25|      38.0|\n",
      "|2012-13|                 GOA|          474.5|     330.25|     431.0|\n",
      "|2012-13|        CHHATTISGARH|        5557.25|     4268.0|    5197.0|\n",
      "|2012-13|           RAJASTHAN|       26896.75|    19702.0|  22907.75|\n",
      "|2012-13|             TRIPURA|         938.25|      797.0|    597.75|\n",
      "|2012-13|               DELHI|         1590.0|     1871.0|    1574.5|\n",
      "|2012-13|    HIMACHAL PRADESH|        3626.75|     3511.0|    3454.0|\n",
      "|2012-13|             GUJARAT|        10204.0|    9518.75|  10180.25|\n",
      "|2012-13|               BIHAR|         5805.5|     5300.0|    2841.5|\n",
      "|2012-13|          CHANDIGARH|          154.5|     152.75|    155.75|\n",
      "|2012-13|           KARNATAKA|       16744.25|   15107.75|  15303.25|\n",
      "|2012-13|       UTTAR PRADESH|        22524.0|    15056.0|  10800.25|\n",
      "|2012-13|             MANIPUR|        1043.25|     823.75|    444.75|\n",
      "|2012-13|         LAKSHADWEEP|          13.75|       10.0|     10.75|\n",
      "|2012-13|ANDAMAN & NICOBAR...|         109.75|       77.0|     106.5|\n",
      "|2012-13|      MADHYA PRADESH|       13375.25|    11540.5|   12518.0|\n",
      "|2012-13|          PUDUCHERRY|          331.5|      307.5|    324.25|\n",
      "|2012-13|          TAMIL NADU|        11214.5|   10437.25|  11419.25|\n",
      "|2012-13|         MAHARASHTRA|       23655.25|    23694.0|   21273.0|\n",
      "|2012-13|              PUNJAB|        8661.75|     8809.5|   6941.25|\n",
      "|2012-13|            NAGALAND|          681.5|      441.0|     325.0|\n",
      "|2012-13|   ARUNACHAL PRADESH|         368.75|      311.0|     249.0|\n",
      "|2012-13|         UTTARAKHAND|        3104.75|    2046.75|   2385.75|\n",
      "|2012-13|             HARYANA|        6995.25|     6893.5|   6307.75|\n",
      "|2012-13|DADRA & NAGAR HAVELI|          41.25|      32.75|     40.25|\n",
      "|2012-13|             MIZORAM|          722.0|      226.0|     165.0|\n",
      "|2012-13|   JAMMU AND KASHMIR|         3775.0|     3214.0|    2351.5|\n",
      "|2012-13|              ODISHA|         6648.0|     6737.5|   5854.75|\n",
      "|2012-13|      ANDHRA PRADESH|       12069.75|    13056.0|   11079.0|\n",
      "|2012-13|              KERALA|         4349.5|    4073.25|   3767.75|\n",
      "|2012-13|               ASSAM|        5476.25|    5658.25|    2562.0|\n",
      "|2012-13|           JHARKHAND|        3714.25|    2993.25|    2500.0|\n",
      "+-------+--------------------+---------------+-----------+----------+\n",
      "\n"
     ]
    }
   ],
   "source": [
    "school.filter(school['ac_year'] == '2012-13').select('ac_year','statname','boys_toilet_all','pground_all','medchk_all').show(100)"
   ]
  },
  {
   "cell_type": "code",
   "execution_count": 11,
   "metadata": {},
   "outputs": [
    {
     "name": "stdout",
     "output_type": "stream",
     "text": [
      "+--------------------+----------+\n",
      "|         Column_Name|NULL_Count|\n",
      "+--------------------+----------+\n",
      "|             ac_year|         0|\n",
      "|            statname|         0|\n",
      "|       literacy_rate|         0|\n",
      "|  male_literacy_rate|         0|\n",
      "|female_literacy_rate|         0|\n",
      "|      tot_population|         0|\n",
      "|    urban_population|         0|\n",
      "|            sexratio|         0|\n",
      "|        school_total|         0|\n",
      "|            bldg_all|         0|\n",
      "|    girls_toilet_all|         0|\n",
      "|     boys_toilet_all|         0|\n",
      "|     cwsn_toilet_all|         0|\n",
      "|           water_all|         0|\n",
      "|        electric_all|         0|\n",
      "|           ramps_all|         0|\n",
      "|         library_all|         0|\n",
      "|       librarian_all|         0|\n",
      "|       bndrywall_all|         0|\n",
      "|        cwsn_sch_all|         0|\n",
      "|        lab_asst_all|         0|\n",
      "|          hmroom_all|         0|\n",
      "|        internet_all|         0|\n",
      "|         ict_lab_all|         0|\n",
      "|         pground_all|         0|\n",
      "|          medchk_all|         0|\n",
      "|            smdc_all|         0|\n",
      "|     sch_bld_com_all|         0|\n",
      "|             pta_all|         0|\n",
      "|        sch_2006_all|         0|\n",
      "|        pass_percent|         0|\n",
      "+--------------------+----------+\n",
      "\n"
     ]
    }
   ],
   "source": [
    "#10 Checking null values - final\n",
    "school_null_count = reduce(\n",
    "    lambda a, b: a.union(b),\n",
    "    (\n",
    "        school.agg(\n",
    "            F.count(F.when(F.isnull(c), c)).alias('NULL_Count')\n",
    "        ).select(F.lit(c).alias(\"Column_Name\"), \"NULL_Count\")\n",
    "        for c in school.columns\n",
    "    )\n",
    ")\n",
    "school_null_count.show(100)"
   ]
  },
  {
   "cell_type": "markdown",
   "metadata": {},
   "source": [
    "# Constructing New Fields"
   ]
  },
  {
   "cell_type": "code",
   "execution_count": 11,
   "metadata": {
    "scrolled": true
   },
   "outputs": [],
   "source": [
    "#11\n",
    "# Normalization\n",
    "#creating new normalized columns for percentage fields \n",
    "\n",
    "#creating library_percent column\n",
    "school = school.withColumn('library_percent',school['library_all']/school['school_total']*100)\n",
    "\n",
    "#creating bldg_percent column\n",
    "school = school.withColumn('bldg_percent',school['bldg_all']/school['school_total']*100)\n",
    "\n",
    "#creating girls_toilet_percent column\n",
    "school = school.withColumn('girls_toilet_percent',school['girls_toilet_all']/school['school_total']*100)\n",
    "\n",
    "#creating boys_toilet_percent column\n",
    "school = school.withColumn('boys_toilet_percent',school['boys_toilet_all']/school['school_total']*100)\n",
    "\n",
    "#creating cwsn_toilet_percent column\n",
    "school = school.withColumn('cwsn_toilet_percent',school['cwsn_toilet_all']/school['school_total']*100)\n",
    "\n",
    "#creating water_percent column\n",
    "school = school.withColumn('water_percent',school['water_all']/school['school_total']*100)\n",
    "\n",
    "#creating electric_percent column\n",
    "school = school.withColumn('electric_percent',school['electric_all']/school['school_total']*100)\n",
    "\n",
    "#creating ramps_percent column\n",
    "school = school.withColumn('ramps_percent',school['ramps_all']/school['school_total']*100)\n",
    "\n",
    "#creating librarian_percent column\n",
    "school = school.withColumn('librarian_percent',school['librarian_all']/school['school_total']*100)\n",
    "\n",
    "#creating bndrywall_percent column\n",
    "school = school.withColumn('bndrywall_percent',school['bndrywall_all']/school['school_total']*100)\n",
    "\n",
    "#creating cwsn_sch_percent column\n",
    "school = school.withColumn('cwsn_sch_percent',school['cwsn_sch_all']/school['school_total']*100)\n",
    "\n",
    "#creating lab_asst_percent column\n",
    "school = school.withColumn('lab_asst_percent',school['lab_asst_all']/school['school_total']*100)\n",
    "\n",
    "#creating hmroom_percent column\n",
    "school = school.withColumn('hmroom_percent',school['hmroom_all']/school['school_total']*100)\n",
    "\n",
    "#creating internet_percent column\n",
    "school = school.withColumn('internet_percent',school['internet_all']/school['school_total']*100)\n",
    "\n",
    "#creating ict_lab_percent column\n",
    "school = school.withColumn('ict_lab_percent',school['ict_lab_all']/school['school_total']*100)\n",
    "\n",
    "#creating pground_percent column\n",
    "school = school.withColumn('pground_percent',school['pground_all']/school['school_total']*100)\n",
    "\n",
    "#creating medchk_percent column\n",
    "school = school.withColumn('medchk_percent',school['medchk_all']/school['school_total']*100)\n",
    "\n",
    "#creating smdc_percent column\n",
    "school = school.withColumn('smdc_percent',school['smdc_all']/school['school_total']*100)\n",
    "\n",
    "#creating sch_bld_com_percent column\n",
    "school = school.withColumn('sch_bld_com_percent',school['sch_bld_com_all']/school['school_total']*100)\n",
    "\n",
    "#creating pta_percent column\n",
    "school = school.withColumn('pta_percent',school['pta_all']/school['school_total']*100)\n",
    "\n",
    "#creating sch_2006_percent column\n",
    "school = school.withColumn('sch_2006_percent',school['sch_2006_all']/school['school_total']*100)\n",
    "\n",
    "#creating urban_percent column\n",
    "school = school.withColumn('urban_percent',school['urban_population']/school['tot_population']*100)\n",
    "\n",
    "\n"
   ]
  },
  {
   "cell_type": "code",
   "execution_count": 12,
   "metadata": {},
   "outputs": [],
   "source": [
    "#creating region_result column\n",
    "school = school.withColumn('region_result',F.when(F.col('pass_percent')>=80,'Meets requirement').otherwise('Needs Improvement'))\n",
    "#school.select('pass_percent', 'region_result').show()\n",
    "#school.columns"
   ]
  },
  {
   "cell_type": "code",
   "execution_count": 20,
   "metadata": {},
   "outputs": [
    {
     "name": "stdout",
     "output_type": "stream",
     "text": [
      "+-------+-----------+------------------+\n",
      "|ac_year|   statname|   library_percent|\n",
      "+-------+-----------+------------------+\n",
      "|2012-13|     SIKKIM| 66.66666666666666|\n",
      "|2013-14|     SIKKIM| 71.15384615384616|\n",
      "|2014-15|     SIKKIM| 83.92857142857143|\n",
      "|2015-16|     SIKKIM|  94.7136563876652|\n",
      "|2016-17|     SIKKIM| 93.91304347826087|\n",
      "|2012-13|  MEGHALAYA|34.683098591549296|\n",
      "|2013-14|  MEGHALAYA| 31.45800316957211|\n",
      "|2014-15|  MEGHALAYA| 32.62861169837914|\n",
      "|2015-16|  MEGHALAYA| 34.98392282958199|\n",
      "|2016-17|  MEGHALAYA|35.543278084714544|\n",
      "|2012-13|WEST BENGAL| 70.43896449401413|\n",
      "|2013-14|WEST BENGAL| 81.14596993846465|\n",
      "|2014-15|WEST BENGAL| 92.62989927196568|\n",
      "|2015-16|WEST BENGAL| 93.64331959976457|\n",
      "|2016-17|WEST BENGAL| 94.18862824596968|\n",
      "|2012-13|DAMAN & DIU|  90.2439024390244|\n",
      "|2013-14|DAMAN & DIU| 95.23809523809523|\n",
      "|2014-15|DAMAN & DIU|             100.0|\n",
      "|2015-16|DAMAN & DIU|             100.0|\n",
      "|2016-17|DAMAN & DIU|             100.0|\n",
      "+-------+-----------+------------------+\n",
      "only showing top 20 rows\n",
      "\n"
     ]
    }
   ],
   "source": [
    "school.createOrReplaceTempView('school')\n",
    "result=spark.sql(\"select ac_year, statname, library_percent from school\")\n",
    "result.show()"
   ]
  },
  {
   "cell_type": "code",
   "execution_count": 97,
   "metadata": {
    "collapsed": true
   },
   "outputs": [
    {
     "name": "stdout",
     "output_type": "stream",
     "text": [
      "+-------+--------------------+------------------+\n",
      "|ac_year|            statname|   library_percent|\n",
      "+-------+--------------------+------------------+\n",
      "|2012-13|          PUDUCHERRY| 94.30379746835443|\n",
      "|2012-13|       UTTAR PRADESH| 79.98107596647742|\n",
      "|2012-13|      MADHYA PRADESH| 29.35132648366815|\n",
      "|2012-13|             GUJARAT| 75.31536986577858|\n",
      "|2012-13|           KARNATAKA| 92.43588991256382|\n",
      "|2012-13|         LAKSHADWEEP|             100.0|\n",
      "|2012-13|ANDAMAN & NICOBAR...| 97.02970297029702|\n",
      "|2012-13|             TRIPURA|  32.7677624602333|\n",
      "|2012-13|    HIMACHAL PRADESH| 92.55160035895902|\n",
      "|2012-13|               BIHAR| 84.44749957037291|\n",
      "|2012-13|          CHANDIGARH| 96.55172413793103|\n",
      "|2012-13|                 GOA| 95.70815450643777|\n",
      "|2012-13|             MANIPUR| 68.66096866096866|\n",
      "|2012-13|         WEST BENGAL| 70.43896449401413|\n",
      "|2012-13|               DELHI| 91.95928753180661|\n",
      "|2012-13|              SIKKIM| 66.66666666666666|\n",
      "|2012-13|        CHHATTISGARH|  86.8939268575211|\n",
      "|2012-13|           MEGHALAYA|34.683098591549296|\n",
      "|2012-13|         DAMAN & DIU|  90.2439024390244|\n",
      "|2012-13|           RAJASTHAN|  83.0274664367533|\n",
      "+-------+--------------------+------------------+\n",
      "only showing top 20 rows\n",
      "\n"
     ]
    }
   ],
   "source": [
    "school.createOrReplaceTempView('school')\n",
    "result=spark.sql(\"select ac_year, statname, library_percent from school order by ac_year\")\n",
    "result.show()"
   ]
  },
  {
   "cell_type": "code",
   "execution_count": 52,
   "metadata": {},
   "outputs": [],
   "source": [
    "# Final dataframe which will be used by different models\n",
    "school_final = school.select('literacy_rate' , 'male_literacy_rate' , 'female_literacy_rate' , 'urban_percent' ,\n",
    "                       'sexratio','bldg_percent','girls_toilet_percent',\n",
    "                       'boys_toilet_percent','cwsn_toilet_percent','water_percent',\n",
    "                       'electric_percent','ramps_percent','library_percent','librarian_percent','bndrywall_percent',\n",
    "                       'cwsn_sch_percent','lab_asst_percent','hmroom_percent','internet_percent',\n",
    "                       'ict_lab_percent','pground_percent','medchk_percent','smdc_percent',\n",
    "                       'sch_bld_com_percent','pta_percent','sch_2006_percent','pass_percent','region_result')"
   ]
  },
  {
   "cell_type": "markdown",
   "metadata": {},
   "source": [
    "# Exploratory analysis of DM algorithms"
   ]
  },
  {
   "cell_type": "markdown",
   "metadata": {},
   "source": [
    "# Data Mining - Linear Regression"
   ]
  },
  {
   "cell_type": "code",
   "execution_count": 74,
   "metadata": {},
   "outputs": [],
   "source": [
    "#13\n",
    "import findspark\n",
    "findspark.init('/home/ubuntu/spark-2.1.1-bin-hadoop2.7')\n",
    "import pyspark\n",
    "from pyspark.sql import SparkSession\n",
    "spark = SparkSession.builder.appName('linear_regression_docs').getOrCreate()\n",
    "\n",
    "from pyspark.ml.regression import LinearRegression"
   ]
  },
  {
   "cell_type": "code",
   "execution_count": 75,
   "metadata": {},
   "outputs": [],
   "source": [
    "#14\n",
    "# Import VectorAssembler and Vectors\n",
    "from pyspark.ml.linalg import Vectors\n",
    "from pyspark.ml.feature import VectorAssembler"
   ]
  },
  {
   "cell_type": "code",
   "execution_count": 76,
   "metadata": {},
   "outputs": [],
   "source": [
    "#15\n",
    "school_linear = school.select('literacy_rate' , 'male_literacy_rate' , 'female_literacy_rate' , 'urban_percent' ,\n",
    "                       'sexratio','bldg_percent','girls_toilet_percent',\n",
    "                       'boys_toilet_percent','cwsn_toilet_percent','water_percent',\n",
    "                       'electric_percent','ramps_percent','librarian_percent','bndrywall_percent',\n",
    "                       'cwsn_sch_percent','lab_asst_percent','hmroom_percent','internet_percent',\n",
    "                       'ict_lab_percent','pground_percent','medchk_percent','smdc_percent',\n",
    "                       'sch_bld_com_percent','pta_percent','sch_2006_percent','pass_percent')\n",
    "\n",
    "# Here we specify the input column names which will act as features\n",
    "assembler = VectorAssembler(\n",
    "    inputCols=['literacy_rate' , 'male_literacy_rate' , 'female_literacy_rate' , 'urban_percent' ,\n",
    "                       'sexratio','bldg_percent','girls_toilet_percent',\n",
    "                       'boys_toilet_percent','cwsn_toilet_percent','water_percent',\n",
    "                       'electric_percent','ramps_percent','librarian_percent','bndrywall_percent',\n",
    "                       'cwsn_sch_percent','lab_asst_percent','hmroom_percent','internet_percent',\n",
    "                       'ict_lab_percent','pground_percent','medchk_percent','smdc_percent',\n",
    "                       'sch_bld_com_percent','pta_percent','sch_2006_percent',],\n",
    "    outputCol=\"features\")"
   ]
  },
  {
   "cell_type": "code",
   "execution_count": 77,
   "metadata": {},
   "outputs": [],
   "source": [
    "#16\n",
    "# Now that we've created the assembler variable, let's actually transform the data.\n",
    "output = assembler.transform(school_linear)"
   ]
  },
  {
   "cell_type": "code",
   "execution_count": 17,
   "metadata": {},
   "outputs": [
    {
     "name": "stdout",
     "output_type": "stream",
     "text": [
      "root\n",
      " |-- literacy_rate: double (nullable = true)\n",
      " |-- male_literacy_rate: double (nullable = true)\n",
      " |-- female_literacy_rate: double (nullable = true)\n",
      " |-- urban_percent: double (nullable = true)\n",
      " |-- sexratio: double (nullable = true)\n",
      " |-- bldg_percent: double (nullable = true)\n",
      " |-- girls_toilet_percent: double (nullable = true)\n",
      " |-- boys_toilet_percent: double (nullable = true)\n",
      " |-- cwsn_toilet_percent: double (nullable = true)\n",
      " |-- water_percent: double (nullable = true)\n",
      " |-- electric_percent: double (nullable = true)\n",
      " |-- ramps_percent: double (nullable = true)\n",
      " |-- librarian_percent: double (nullable = true)\n",
      " |-- bndrywall_percent: double (nullable = true)\n",
      " |-- cwsn_sch_percent: double (nullable = true)\n",
      " |-- lab_asst_percent: double (nullable = true)\n",
      " |-- hmroom_percent: double (nullable = true)\n",
      " |-- internet_percent: double (nullable = true)\n",
      " |-- ict_lab_percent: double (nullable = true)\n",
      " |-- pground_percent: double (nullable = true)\n",
      " |-- medchk_percent: double (nullable = true)\n",
      " |-- smdc_percent: double (nullable = true)\n",
      " |-- sch_bld_com_percent: double (nullable = true)\n",
      " |-- pta_percent: double (nullable = true)\n",
      " |-- sch_2006_percent: double (nullable = true)\n",
      " |-- pass_percent: double (nullable = true)\n",
      " |-- features: vector (nullable = true)\n",
      "\n"
     ]
    },
    {
     "data": {
      "text/plain": [
       "[Row(literacy_rate=82.2, male_literacy_rate=87.29, female_literacy_rate=76.43, urban_percent=1.620892231236321, sexratio=889.0, bldg_percent=100.0, girls_toilet_percent=50.97435897435898, boys_toilet_percent=109.87179487179488, cwsn_toilet_percent=1.0256410256410255, water_percent=98.46153846153847, electric_percent=90.76923076923077, ramps_percent=2.564102564102564, librarian_percent=18.461538461538463, bndrywall_percent=45.12820512820513, cwsn_sch_percent=2.564102564102564, lab_asst_percent=50.256410256410255, hmroom_percent=92.3076923076923, internet_percent=52.307692307692314, ict_lab_percent=13.846153846153847, pground_percent=96.28205128205128, medchk_percent=104.74358974358975, smdc_percent=75.38461538461539, sch_bld_com_percent=61.02564102564103, pta_percent=65.12820512820512, sch_2006_percent=2.051282051282051, pass_percent=94.05411721316297, features=DenseVector([82.2, 87.29, 76.43, 1.6209, 889.0, 100.0, 50.9744, 109.8718, 1.0256, 98.4615, 90.7692, 2.5641, 18.4615, 45.1282, 2.5641, 50.2564, 92.3077, 52.3077, 13.8462, 96.2821, 104.7436, 75.3846, 61.0256, 65.1282, 2.0513]))]"
      ]
     },
     "execution_count": 17,
     "metadata": {},
     "output_type": "execute_result"
    }
   ],
   "source": [
    "#17\n",
    "# Using print schema, you see that the features output column has been added. \n",
    "output.printSchema()\n",
    "\n",
    "# You can see that the features column is a dense vector that combines the various features as expected.\n",
    "output.head(1)"
   ]
  },
  {
   "cell_type": "code",
   "execution_count": 78,
   "metadata": {},
   "outputs": [
    {
     "name": "stdout",
     "output_type": "stream",
     "text": [
      "+--------------------+------------------+\n",
      "|            features|      pass_percent|\n",
      "+--------------------+------------------+\n",
      "|[82.2,87.29,76.43...| 94.05411721316297|\n",
      "|[82.2,87.29,76.43...| 92.08577428981984|\n",
      "|[82.2,87.29,76.43...| 97.93665531827091|\n",
      "|[82.2,87.29,76.43...| 92.13992203139817|\n",
      "|[82.2,87.29,76.43...| 94.05411721316297|\n",
      "|[75.48,77.17,73.7...| 73.17316366744218|\n",
      "|[75.48,77.17,73.7...|  84.2525228819526|\n",
      "|[75.48,77.17,73.7...| 75.49961069296653|\n",
      "|[75.48,77.17,73.7...| 72.49463025467935|\n",
      "|[75.48,77.17,73.7...| 99.17333024297909|\n",
      "|[77.08,82.67,71.1...|  82.6755083851103|\n",
      "|[77.08,82.67,71.1...| 82.28316865871777|\n",
      "|[77.08,82.67,71.1...| 82.51991006784687|\n",
      "|[77.08,82.67,71.1...| 82.65169063123699|\n",
      "|[77.08,82.67,71.1...| 93.15251417438323|\n",
      "|[87.07,91.48,79.5...| 88.37727441515038|\n",
      "|[87.07,91.48,79.5...| 90.31664212076583|\n",
      "|[87.07,91.48,79.5...| 64.57627118644068|\n",
      "|[87.07,91.48,79.5...|60.252131998516866|\n",
      "|[87.07,91.48,79.5...| 62.42496998799519|\n",
      "+--------------------+------------------+\n",
      "only showing top 20 rows\n",
      "\n"
     ]
    }
   ],
   "source": [
    "#18\n",
    "# Let's select two columns (the feature and predictor).\n",
    "# This is now in the appropriate format to be processed by Spark.\n",
    "final_data = output.select(\"features\",'pass_percent')\n",
    "final_data.show()"
   ]
  },
  {
   "cell_type": "code",
   "execution_count": 79,
   "metadata": {},
   "outputs": [],
   "source": [
    "# Let's do a randomised 80/20 split. \n",
    "# Remember, you can use other splits depending on how easy/difficult it is to train your model.\n",
    "train_data,test_data = final_data.randomSplit([0.8,0.2])"
   ]
  },
  {
   "cell_type": "code",
   "execution_count": 80,
   "metadata": {},
   "outputs": [
    {
     "name": "stdout",
     "output_type": "stream",
     "text": [
      "+-------+------------------+\n",
      "|summary|      pass_percent|\n",
      "+-------+------------------+\n",
      "|  count|               143|\n",
      "|   mean|  79.8966210480045|\n",
      "| stddev|12.996232128717779|\n",
      "|    min| 36.74911660777385|\n",
      "|    max| 99.37974102526937|\n",
      "+-------+------------------+\n",
      "\n",
      "+-------+------------------+\n",
      "|summary|      pass_percent|\n",
      "+-------+------------------+\n",
      "|  count|                35|\n",
      "|   mean| 82.81608756327331|\n",
      "| stddev|14.385403020601473|\n",
      "|    min| 41.75869120654397|\n",
      "|    max| 99.92422034392305|\n",
      "+-------+------------------+\n",
      "\n"
     ]
    }
   ],
   "source": [
    "# Let's see our training data.\n",
    "train_data.describe().show()\n",
    "\n",
    "# And our testing data.\n",
    "test_data.describe().show()"
   ]
  },
  {
   "cell_type": "code",
   "execution_count": 81,
   "metadata": {},
   "outputs": [],
   "source": [
    "#19\n",
    "#Linear Regression Model\n",
    "lr = LinearRegression(labelCol='pass_percent')"
   ]
  },
  {
   "cell_type": "code",
   "execution_count": 82,
   "metadata": {},
   "outputs": [],
   "source": [
    "#20\n",
    "# Fit the model to the data.\n",
    "lrModel = lr.fit(train_data)"
   ]
  },
  {
   "cell_type": "code",
   "execution_count": 83,
   "metadata": {},
   "outputs": [
    {
     "name": "stdout",
     "output_type": "stream",
     "text": [
      "Coefficients: [-40.18502527240927,18.87642771482375,20.95187426656881,-0.18711301017241116,-0.12954217062983614,0.3555478413456307,-0.0006259754776726217,-0.014745641876617019,-0.021367667316828598,0.891027254395276,-0.004435406525103042,-0.09683573928886566,0.11210172193088036,0.09405492520810697,1.4859880381540296,0.014045156007860061,0.09105399068518688,0.03709788204820762,0.005274710602931511,-0.15503878316770836,0.014063017135355824,-0.018486841337294106,-0.1359939674726993,0.029894349918114148,-0.036321146036024786] Intercept: 131.17249224065102\n"
     ]
    }
   ],
   "source": [
    "#21\n",
    "# Print the coefficients and intercept for linear regression.\n",
    "print(\"Coefficients: {} Intercept: {}\".format(lrModel.coefficients,lrModel.intercept))"
   ]
  },
  {
   "cell_type": "code",
   "execution_count": null,
   "metadata": {},
   "outputs": [],
   "source": []
  },
  {
   "cell_type": "code",
   "execution_count": 84,
   "metadata": {},
   "outputs": [],
   "source": [
    "#22\n",
    "# Let's evaluate the model against the test data.\n",
    "test_results = lrModel.evaluate(test_data)"
   ]
  },
  {
   "cell_type": "code",
   "execution_count": 85,
   "metadata": {},
   "outputs": [
    {
     "name": "stdout",
     "output_type": "stream",
     "text": [
      "+--------------------+\n",
      "|           residuals|\n",
      "+--------------------+\n",
      "| -3.6386504398026602|\n",
      "| -10.775005745542323|\n",
      "| -1.1190137206226893|\n",
      "|  -5.602757695796313|\n",
      "| -10.217151325473374|\n",
      "|  -6.040764698631563|\n",
      "| -1.2457184100624943|\n",
      "| -0.5814117044396028|\n",
      "|   4.792136557594787|\n",
      "|  -8.557814814028532|\n",
      "|   2.940624715977762|\n",
      "|-0.00323389819948261|\n",
      "| -3.1211340269673684|\n",
      "| -1.5261891643861674|\n",
      "|  2.3533874796905394|\n",
      "|  2.6660417700799854|\n",
      "|   9.762866951974999|\n",
      "|  11.588329590396441|\n",
      "|  3.5425036789345796|\n",
      "| -14.611984430132864|\n",
      "+--------------------+\n",
      "only showing top 20 rows\n",
      "\n",
      "RSME: 8.594431987306693\n"
     ]
    }
   ],
   "source": [
    "#23\n",
    "# Interesting results! This shows the difference between the predicted value and the test data.\n",
    "test_results.residuals.show()\n",
    "\n",
    "# Let's get some evaluation metrics (as discussed in the previous linear regression notebook).\n",
    "print(\"RSME: {}\".format(test_results.rootMeanSquaredError))"
   ]
  },
  {
   "cell_type": "code",
   "execution_count": 86,
   "metadata": {},
   "outputs": [
    {
     "name": "stdout",
     "output_type": "stream",
     "text": [
      "R2: 0.6325659342380789\n"
     ]
    }
   ],
   "source": [
    "#23\n",
    "# We can also get the R2 value. \n",
    "print(\"R2: {}\".format(test_results.r2))"
   ]
  },
  {
   "cell_type": "code",
   "execution_count": 87,
   "metadata": {},
   "outputs": [],
   "source": [
    "final_data_linear = final_data"
   ]
  },
  {
   "cell_type": "code",
   "execution_count": 35,
   "metadata": {},
   "outputs": [
    {
     "name": "stdout",
     "output_type": "stream",
     "text": [
      "+-------+------------------+\n",
      "|summary|      pass_percent|\n",
      "+-------+------------------+\n",
      "|  count|               178|\n",
      "|   mean| 80.47067345269218|\n",
      "| stddev|13.289412642983894|\n",
      "|    min| 36.74911660777385|\n",
      "|    max| 99.92422034392305|\n",
      "+-------+------------------+\n",
      "\n"
     ]
    }
   ],
   "source": [
    "final_data.describe().show()"
   ]
  },
  {
   "cell_type": "code",
   "execution_count": 36,
   "metadata": {},
   "outputs": [
    {
     "name": "stdout",
     "output_type": "stream",
     "text": [
      "+--------------------+\n",
      "|            features|\n",
      "+--------------------+\n",
      "|[82.2,87.29,76.43...|\n",
      "|[82.2,87.29,76.43...|\n",
      "|[82.2,87.29,76.43...|\n",
      "|[82.2,87.29,76.43...|\n",
      "|[82.2,87.29,76.43...|\n",
      "|[75.48,77.17,73.7...|\n",
      "|[75.48,77.17,73.7...|\n",
      "|[75.48,77.17,73.7...|\n",
      "|[75.48,77.17,73.7...|\n",
      "|[75.48,77.17,73.7...|\n",
      "|[77.08,82.67,71.1...|\n",
      "|[77.08,82.67,71.1...|\n",
      "|[77.08,82.67,71.1...|\n",
      "|[77.08,82.67,71.1...|\n",
      "|[77.08,82.67,71.1...|\n",
      "|[87.07,91.48,79.5...|\n",
      "|[87.07,91.48,79.5...|\n",
      "|[87.07,91.48,79.5...|\n",
      "|[87.07,91.48,79.5...|\n",
      "|[87.07,91.48,79.5...|\n",
      "+--------------------+\n",
      "only showing top 20 rows\n",
      "\n"
     ]
    }
   ],
   "source": [
    "# Let's just select the features column (removing the label column).\n",
    "unlabeled_data = final_data.select('features')\n",
    "unlabeled_data.show()"
   ]
  },
  {
   "cell_type": "code",
   "execution_count": 37,
   "metadata": {},
   "outputs": [],
   "source": [
    "# Now we can transform the unlabeled data.\n",
    "predictions = lrModel.transform(unlabeled_data)"
   ]
  },
  {
   "cell_type": "code",
   "execution_count": 38,
   "metadata": {},
   "outputs": [
    {
     "name": "stdout",
     "output_type": "stream",
     "text": [
      "+--------------------+-----------------+\n",
      "|            features|       prediction|\n",
      "+--------------------+-----------------+\n",
      "|[82.2,87.29,76.43...|80.51812153883591|\n",
      "|[82.2,87.29,76.43...|82.55896248876275|\n",
      "|[82.2,87.29,76.43...|83.13166345411778|\n",
      "|[82.2,87.29,76.43...|82.04205125496767|\n",
      "|[82.2,87.29,76.43...|89.08717679996707|\n",
      "|[75.48,77.17,73.7...| 78.7450232492116|\n",
      "|[75.48,77.17,73.7...|78.83978970889689|\n",
      "|[75.48,77.17,73.7...| 77.0332563878528|\n",
      "|[75.48,77.17,73.7...|78.60127168495089|\n",
      "|[75.48,77.17,73.7...|83.13752034229884|\n",
      "|[77.08,82.67,71.1...|83.16847613292833|\n",
      "|[77.08,82.67,71.1...|85.91803864880414|\n",
      "|[77.08,82.67,71.1...|  86.479098246682|\n",
      "|[77.08,82.67,71.1...|86.96236828835679|\n",
      "|[77.08,82.67,71.1...|89.07993209955642|\n",
      "|[87.07,91.48,79.5...| 64.6953646880184|\n",
      "|[87.07,91.48,79.5...|70.22276952074111|\n",
      "|[87.07,91.48,79.5...|66.22933814527465|\n",
      "|[87.07,91.48,79.5...|67.90429181478586|\n",
      "|[87.07,91.48,79.5...|71.25891639713771|\n",
      "+--------------------+-----------------+\n",
      "only showing top 20 rows\n",
      "\n"
     ]
    },
    {
     "data": {
      "text/plain": [
       "[Row(features=DenseVector([82.2, 87.29, 76.43, 1.6209, 889.0, 100.0, 50.9744, 109.8718, 1.0256, 98.4615, 90.7692, 2.5641, 18.4615, 45.1282, 2.5641, 50.2564, 92.3077, 52.3077, 13.8462, 96.2821, 104.7436, 75.3846, 61.0256, 65.1282, 2.0513]), prediction=80.51812153883591)]"
      ]
     },
     "execution_count": 38,
     "metadata": {},
     "output_type": "execute_result"
    }
   ],
   "source": [
    "# It worked! Feeding the unlabeled data features into the model results in a prediction, \n",
    "# which is the amount someone with those features is likely to spend in a year.\n",
    "predictions.show()\n",
    "predictions.head(1)"
   ]
  },
  {
   "cell_type": "markdown",
   "metadata": {},
   "source": [
    "# Exploring Classification Tree Models"
   ]
  },
  {
   "cell_type": "code",
   "execution_count": 14,
   "metadata": {},
   "outputs": [],
   "source": [
    "import findspark\n",
    "findspark.init('/home/ubuntu/spark-2.1.1-bin-hadoop2.7')\n",
    "import pyspark\n",
    "from pyspark.sql import SparkSession\n",
    "spark = SparkSession.builder.appName('tree_methods_adv').getOrCreate()"
   ]
  },
  {
   "cell_type": "code",
   "execution_count": 15,
   "metadata": {},
   "outputs": [],
   "source": [
    "# load data\n",
    "school_tree = school_final.select('literacy_rate' , 'male_literacy_rate' , 'female_literacy_rate' , 'urban_percent' ,\n",
    "                       'sexratio','bldg_percent','girls_toilet_percent',\n",
    "                       'boys_toilet_percent','cwsn_toilet_percent','water_percent',\n",
    "                       'electric_percent','ramps_percent','librarian_percent','bndrywall_percent',\n",
    "                       'cwsn_sch_percent','lab_asst_percent','hmroom_percent','internet_percent',\n",
    "                       'ict_lab_percent','pground_percent','medchk_percent','smdc_percent',\n",
    "                       'sch_bld_com_percent','pta_percent','sch_2006_percent', 'region_result')"
   ]
  },
  {
   "cell_type": "code",
   "execution_count": 16,
   "metadata": {},
   "outputs": [],
   "source": [
    "# Import VectorAssembler and Vectors\n",
    "from pyspark.ml.linalg import Vectors\n",
    "from pyspark.ml.feature import VectorAssembler"
   ]
  },
  {
   "cell_type": "code",
   "execution_count": 17,
   "metadata": {},
   "outputs": [],
   "source": [
    "# Combine all features into one vector named features.\n",
    "assembler = VectorAssembler(\n",
    "  inputCols=['literacy_rate' , 'male_literacy_rate' , 'female_literacy_rate' , 'urban_percent' ,\n",
    "                       'sexratio','bldg_percent','girls_toilet_percent',\n",
    "                       'boys_toilet_percent','cwsn_toilet_percent','water_percent',\n",
    "                       'electric_percent','ramps_percent','librarian_percent','bndrywall_percent',\n",
    "                       'cwsn_sch_percent','lab_asst_percent','hmroom_percent','internet_percent',\n",
    "                       'ict_lab_percent','pground_percent','medchk_percent','smdc_percent',\n",
    "                       'sch_bld_com_percent','pta_percent','sch_2006_percent'],\n",
    "              outputCol=\"features\")"
   ]
  },
  {
   "cell_type": "code",
   "execution_count": 18,
   "metadata": {},
   "outputs": [],
   "source": [
    "# Let's transform the data. \n",
    "output = assembler.transform(school_tree)"
   ]
  },
  {
   "cell_type": "code",
   "execution_count": 20,
   "metadata": {},
   "outputs": [
    {
     "data": {
      "text/plain": [
       "[Row(literacy_rate=82.2, male_literacy_rate=87.29, female_literacy_rate=76.43, urban_percent=1.620892231236321, sexratio=889.0, bldg_percent=100.0, girls_toilet_percent=50.97435897435898, boys_toilet_percent=109.87179487179488, cwsn_toilet_percent=1.0256410256410255, water_percent=98.46153846153847, electric_percent=90.76923076923077, ramps_percent=2.564102564102564, librarian_percent=18.461538461538463, bndrywall_percent=45.12820512820513, cwsn_sch_percent=2.564102564102564, lab_asst_percent=50.256410256410255, hmroom_percent=92.3076923076923, internet_percent=52.307692307692314, ict_lab_percent=13.846153846153847, pground_percent=96.28205128205128, medchk_percent=104.74358974358975, smdc_percent=75.38461538461539, sch_bld_com_percent=61.02564102564103, pta_percent=65.12820512820512, sch_2006_percent=2.051282051282051, region_result='Meets requirement', features=DenseVector([82.2, 87.29, 76.43, 1.6209, 889.0, 100.0, 50.9744, 109.8718, 1.0256, 98.4615, 90.7692, 2.5641, 18.4615, 45.1282, 2.5641, 50.2564, 92.3077, 52.3077, 13.8462, 96.2821, 104.7436, 75.3846, 61.0256, 65.1282, 2.0513]))]"
      ]
     },
     "execution_count": 20,
     "metadata": {},
     "output_type": "execute_result"
    }
   ],
   "source": [
    "output.head(1)"
   ]
  },
  {
   "cell_type": "code",
   "execution_count": 21,
   "metadata": {},
   "outputs": [
    {
     "data": {
      "text/plain": [
       "[Row(literacy_rate=82.2, male_literacy_rate=87.29, female_literacy_rate=76.43, urban_percent=1.620892231236321, sexratio=889.0, bldg_percent=100.0, girls_toilet_percent=50.97435897435898, boys_toilet_percent=109.87179487179488, cwsn_toilet_percent=1.0256410256410255, water_percent=98.46153846153847, electric_percent=90.76923076923077, ramps_percent=2.564102564102564, librarian_percent=18.461538461538463, bndrywall_percent=45.12820512820513, cwsn_sch_percent=2.564102564102564, lab_asst_percent=50.256410256410255, hmroom_percent=92.3076923076923, internet_percent=52.307692307692314, ict_lab_percent=13.846153846153847, pground_percent=96.28205128205128, medchk_percent=104.74358974358975, smdc_percent=75.38461538461539, sch_bld_com_percent=61.02564102564103, pta_percent=65.12820512820512, sch_2006_percent=2.051282051282051, region_result='Meets requirement')]"
      ]
     },
     "execution_count": 21,
     "metadata": {},
     "output_type": "execute_result"
    }
   ],
   "source": [
    "school_tree.head(1)"
   ]
  },
  {
   "cell_type": "code",
   "execution_count": 19,
   "metadata": {},
   "outputs": [],
   "source": [
    "# Let's import the string indexer (similar to the logistic regression exercises).\n",
    "from pyspark.ml.feature import StringIndexer"
   ]
  },
  {
   "cell_type": "code",
   "execution_count": 20,
   "metadata": {},
   "outputs": [],
   "source": [
    "indexer = StringIndexer(inputCol=\"region_result\", outputCol=\"region_result_index\")\n",
    "output_fixed = indexer.fit(output).transform(output)"
   ]
  },
  {
   "cell_type": "code",
   "execution_count": 21,
   "metadata": {},
   "outputs": [],
   "source": [
    "# Let's select the two columns we want. Features (which contains vectors), and the predictor.\n",
    "final_data = output_fixed.select(\"features\",\"region_result_index\")"
   ]
  },
  {
   "cell_type": "code",
   "execution_count": 22,
   "metadata": {},
   "outputs": [
    {
     "name": "stdout",
     "output_type": "stream",
     "text": [
      "+--------------------+-------------------+\n",
      "|            features|region_result_index|\n",
      "+--------------------+-------------------+\n",
      "|[82.2,87.29,76.43...|                0.0|\n",
      "|[82.2,87.29,76.43...|                0.0|\n",
      "|[82.2,87.29,76.43...|                0.0|\n",
      "|[82.2,87.29,76.43...|                0.0|\n",
      "|[82.2,87.29,76.43...|                0.0|\n",
      "|[75.48,77.17,73.7...|                1.0|\n",
      "|[75.48,77.17,73.7...|                0.0|\n",
      "|[75.48,77.17,73.7...|                1.0|\n",
      "|[75.48,77.17,73.7...|                1.0|\n",
      "|[75.48,77.17,73.7...|                0.0|\n",
      "|[77.08,82.67,71.1...|                0.0|\n",
      "|[77.08,82.67,71.1...|                0.0|\n",
      "|[77.08,82.67,71.1...|                0.0|\n",
      "|[77.08,82.67,71.1...|                0.0|\n",
      "|[77.08,82.67,71.1...|                0.0|\n",
      "|[87.07,91.48,79.5...|                0.0|\n",
      "|[87.07,91.48,79.5...|                0.0|\n",
      "|[87.07,91.48,79.5...|                1.0|\n",
      "|[87.07,91.48,79.5...|                1.0|\n",
      "|[87.07,91.48,79.5...|                1.0|\n",
      "+--------------------+-------------------+\n",
      "only showing top 20 rows\n",
      "\n"
     ]
    }
   ],
   "source": [
    "final_data.show()"
   ]
  },
  {
   "cell_type": "code",
   "execution_count": 23,
   "metadata": {},
   "outputs": [],
   "source": [
    "# Split the training and testing set.\n",
    "train_data_tree,test_data_tree = final_data.randomSplit([0.8,0.2])"
   ]
  },
  {
   "cell_type": "code",
   "execution_count": 24,
   "metadata": {},
   "outputs": [],
   "source": [
    "# Let's import the relevant classifiers. \n",
    "from pyspark.ml.classification import DecisionTreeClassifier,GBTClassifier,RandomForestClassifier\n",
    "from pyspark.ml import Pipeline"
   ]
  },
  {
   "cell_type": "markdown",
   "metadata": {},
   "source": [
    "# Model Comparison"
   ]
  },
  {
   "cell_type": "code",
   "execution_count": 25,
   "metadata": {},
   "outputs": [],
   "source": [
    "# Use defaults to make the comparison \"fair\". This simplifies the comparison process.\n",
    "\n",
    "dtc = DecisionTreeClassifier(labelCol='region_result_index',featuresCol='features')\n",
    "rfc = RandomForestClassifier(labelCol='region_result_index',featuresCol='features')\n",
    "gbt = GBTClassifier(labelCol='region_result_index',featuresCol='features')"
   ]
  },
  {
   "cell_type": "code",
   "execution_count": 26,
   "metadata": {},
   "outputs": [],
   "source": [
    "# Train the models (it's three models, so it might take some time).\n",
    "dtc_model = dtc.fit(train_data_tree)\n",
    "rfc_model = rfc.fit(train_data_tree)\n",
    "gbt_model = gbt.fit(train_data_tree)"
   ]
  },
  {
   "cell_type": "code",
   "execution_count": 27,
   "metadata": {},
   "outputs": [],
   "source": [
    "#compare\n",
    "dtc_predictions = dtc_model.transform(test_data_tree)\n",
    "rfc_predictions = rfc_model.transform(test_data_tree)\n",
    "gbt_predictions = gbt_model.transform(test_data_tree)"
   ]
  },
  {
   "cell_type": "code",
   "execution_count": 29,
   "metadata": {},
   "outputs": [],
   "source": [
    "# Let's start off with binary classification.\n",
    "from pyspark.ml.evaluation import BinaryClassificationEvaluator\n",
    "\n",
    "# Note that the label column isn't named label, it's named PrivateIndex in this case.\n",
    "my_binary_eval = BinaryClassificationEvaluator(labelCol = 'region_result_index')"
   ]
  },
  {
   "cell_type": "code",
   "execution_count": 30,
   "metadata": {},
   "outputs": [
    {
     "name": "stdout",
     "output_type": "stream",
     "text": [
      "DTC\n",
      "0.8055555555555556\n"
     ]
    }
   ],
   "source": [
    "print(\"DTC\")\n",
    "print(my_binary_eval.evaluate(dtc_predictions))"
   ]
  },
  {
   "cell_type": "code",
   "execution_count": 31,
   "metadata": {},
   "outputs": [
    {
     "name": "stdout",
     "output_type": "stream",
     "text": [
      "RFC\n",
      "0.900966183574879\n"
     ]
    }
   ],
   "source": [
    "print(\"RFC\")\n",
    "print(my_binary_eval.evaluate(rfc_predictions))"
   ]
  },
  {
   "cell_type": "code",
   "execution_count": 32,
   "metadata": {},
   "outputs": [
    {
     "name": "stdout",
     "output_type": "stream",
     "text": [
      "GBT\n",
      "0.817632850241546\n"
     ]
    }
   ],
   "source": [
    "my_binary_gbt_eval = BinaryClassificationEvaluator(labelCol='region_result_index', rawPredictionCol='prediction')\n",
    "print(\"GBT\")\n",
    "print(my_binary_gbt_eval.evaluate(gbt_predictions))"
   ]
  },
  {
   "cell_type": "code",
   "execution_count": 35,
   "metadata": {},
   "outputs": [],
   "source": [
    "#multi-class classification evaluator\n",
    "# Let's import the evaluator.\n",
    "from pyspark.ml.evaluation import MulticlassClassificationEvaluator\n",
    "\n",
    "# Select (prediction, true label) and compute test error. \n",
    "acc_evaluator = MulticlassClassificationEvaluator(labelCol=\"region_result_index\", predictionCol=\"prediction\", metricName=\"accuracy\")"
   ]
  },
  {
   "cell_type": "code",
   "execution_count": 36,
   "metadata": {},
   "outputs": [],
   "source": [
    "dtc_acc = acc_evaluator.evaluate(dtc_predictions)\n",
    "rfc_acc = acc_evaluator.evaluate(rfc_predictions)\n",
    "gbt_acc = acc_evaluator.evaluate(gbt_predictions)"
   ]
  },
  {
   "cell_type": "code",
   "execution_count": 37,
   "metadata": {},
   "outputs": [
    {
     "name": "stdout",
     "output_type": "stream",
     "text": [
      "Here are the results!\n",
      "----------------------------------------\n",
      "A single decision tree has an accuracy of: 78.05%\n",
      "----------------------------------------\n",
      "A random forest ensemble has an accuracy of: 85.37%\n",
      "----------------------------------------\n",
      "An ensemble using GBT has an accuracy of: 82.93%\n"
     ]
    }
   ],
   "source": [
    "print(\"Here are the results!\")\n",
    "print('-'*40)\n",
    "print('A single decision tree has an accuracy of: {0:2.2f}%'.format(dtc_acc*100))\n",
    "print('-'*40)\n",
    "print('A random forest ensemble has an accuracy of: {0:2.2f}%'.format(rfc_acc*100))\n",
    "print('-'*40)\n",
    "print('An ensemble using GBT has an accuracy of: {0:2.2f}%'.format(gbt_acc*100))"
   ]
  },
  {
   "cell_type": "markdown",
   "metadata": {},
   "source": [
    "# 7.1 Test Designs"
   ]
  },
  {
   "cell_type": "markdown",
   "metadata": {},
   "source": [
    "# Test Designs for Linear Regression Model"
   ]
  },
  {
   "cell_type": "code",
   "execution_count": 92,
   "metadata": {},
   "outputs": [],
   "source": [
    "# Split the training and testing set: Run 1 - 90/10 split\n",
    "train_data_linear_1,test_data_linear_1 = final_data_linear.randomSplit([0.9,0.1])"
   ]
  },
  {
   "cell_type": "code",
   "execution_count": 93,
   "metadata": {},
   "outputs": [],
   "source": [
    "#Linear Regression Model\n",
    "lr_1 = LinearRegression(labelCol='pass_percent')"
   ]
  },
  {
   "cell_type": "code",
   "execution_count": 94,
   "metadata": {},
   "outputs": [],
   "source": [
    "# Fit the model to the data.\n",
    "lrModel_1 = lr_1.fit(train_data_linear_1)"
   ]
  },
  {
   "cell_type": "code",
   "execution_count": 95,
   "metadata": {},
   "outputs": [],
   "source": [
    "# Let's evaluate the model against the test data.\n",
    "test_results_1 = lrModel_1.evaluate(test_data_linear_1)"
   ]
  },
  {
   "cell_type": "code",
   "execution_count": 96,
   "metadata": {},
   "outputs": [
    {
     "name": "stdout",
     "output_type": "stream",
     "text": [
      "RSME: 9.519241596659064\n"
     ]
    }
   ],
   "source": [
    "# Let's get some evaluation metrics (as discussed in the previous linear regression notebook).\n",
    "print(\"RSME: {}\".format(test_results_1.rootMeanSquaredError))"
   ]
  },
  {
   "cell_type": "code",
   "execution_count": 97,
   "metadata": {},
   "outputs": [
    {
     "name": "stdout",
     "output_type": "stream",
     "text": [
      "R2: 0.5476408161335709\n"
     ]
    }
   ],
   "source": [
    "#23\n",
    "# We can also get the R2 value. \n",
    "print(\"R2: {}\".format(test_results_1.r2))"
   ]
  },
  {
   "cell_type": "code",
   "execution_count": 101,
   "metadata": {},
   "outputs": [],
   "source": [
    "# Split the training and testing set Run 2 - 70/30 split\n",
    "train_data_linear_2,test_data_linear_2 = final_data_linear.randomSplit([0.7,0.3])"
   ]
  },
  {
   "cell_type": "code",
   "execution_count": 102,
   "metadata": {},
   "outputs": [],
   "source": [
    "#Linear Regression Model\n",
    "lr_2 = LinearRegression(labelCol='pass_percent')"
   ]
  },
  {
   "cell_type": "code",
   "execution_count": 103,
   "metadata": {},
   "outputs": [],
   "source": [
    "# Fit the model to the data.\n",
    "lrModel_2 = lr_2.fit(train_data_linear_2)"
   ]
  },
  {
   "cell_type": "code",
   "execution_count": 104,
   "metadata": {},
   "outputs": [],
   "source": [
    "# Let's evaluate the model against the test data.\n",
    "test_results_2 = lrModel_2.evaluate(test_data_linear_2)"
   ]
  },
  {
   "cell_type": "code",
   "execution_count": 105,
   "metadata": {},
   "outputs": [
    {
     "name": "stdout",
     "output_type": "stream",
     "text": [
      "RSME: 10.620279099697747\n"
     ]
    }
   ],
   "source": [
    "# Let's get some evaluation metrics (as discussed in the previous linear regression notebook).\n",
    "print(\"RSME: {}\".format(test_results_2.rootMeanSquaredError))"
   ]
  },
  {
   "cell_type": "code",
   "execution_count": 106,
   "metadata": {},
   "outputs": [
    {
     "name": "stdout",
     "output_type": "stream",
     "text": [
      "R2: 0.45884314773597545\n"
     ]
    }
   ],
   "source": [
    "#23\n",
    "# We can also get the R2 value. \n",
    "print(\"R2: {}\".format(test_results_2.r2))"
   ]
  },
  {
   "cell_type": "markdown",
   "metadata": {},
   "source": [
    "# Test Designs for Random Forest Model"
   ]
  },
  {
   "cell_type": "code",
   "execution_count": 49,
   "metadata": {},
   "outputs": [],
   "source": [
    "# Split the training and testing set - Run 1\n",
    "train_data_tree_1,test_data_tree_1 = final_data.randomSplit([0.9,0.1])"
   ]
  },
  {
   "cell_type": "code",
   "execution_count": 50,
   "metadata": {},
   "outputs": [],
   "source": [
    "rfc_1 = RandomForestClassifier(labelCol='region_result_index',featuresCol='features')"
   ]
  },
  {
   "cell_type": "code",
   "execution_count": 51,
   "metadata": {},
   "outputs": [],
   "source": [
    "rfc_model_1 = rfc_1.fit(train_data_tree_1)"
   ]
  },
  {
   "cell_type": "code",
   "execution_count": 52,
   "metadata": {},
   "outputs": [],
   "source": [
    "rfc_predictions_1 = rfc_model_1.transform(test_data_tree_1)"
   ]
  },
  {
   "cell_type": "code",
   "execution_count": 53,
   "metadata": {},
   "outputs": [],
   "source": [
    "my_binary_eval_1 = BinaryClassificationEvaluator(labelCol = 'region_result_index')"
   ]
  },
  {
   "cell_type": "code",
   "execution_count": 54,
   "metadata": {},
   "outputs": [
    {
     "name": "stdout",
     "output_type": "stream",
     "text": [
      "0.9888888888888888\n"
     ]
    }
   ],
   "source": [
    "print(my_binary_eval_1.evaluate(rfc_predictions_1))"
   ]
  },
  {
   "cell_type": "code",
   "execution_count": 55,
   "metadata": {},
   "outputs": [],
   "source": [
    "# Select (prediction, true label) and compute test error. \n",
    "acc_evaluator_1 = MulticlassClassificationEvaluator(labelCol=\"region_result_index\", predictionCol=\"prediction\", metricName=\"accuracy\")"
   ]
  },
  {
   "cell_type": "code",
   "execution_count": 56,
   "metadata": {},
   "outputs": [],
   "source": [
    "rfc_acc_1 = acc_evaluator_1.evaluate(rfc_predictions_1)"
   ]
  },
  {
   "cell_type": "code",
   "execution_count": 57,
   "metadata": {},
   "outputs": [
    {
     "name": "stdout",
     "output_type": "stream",
     "text": [
      "A random forest model has an accuracy of: 94.74%\n"
     ]
    }
   ],
   "source": [
    "print('A random forest model has an accuracy of: {0:2.2f}%'.format(rfc_acc_1*100))"
   ]
  },
  {
   "cell_type": "code",
   "execution_count": 61,
   "metadata": {},
   "outputs": [],
   "source": [
    "# Split the training and testing set - Run 2\n",
    "train_data_tree_2,test_data_tree_2 = final_data.randomSplit([0.7,0.3])"
   ]
  },
  {
   "cell_type": "code",
   "execution_count": 62,
   "metadata": {},
   "outputs": [],
   "source": [
    "rfc_2 = RandomForestClassifier(labelCol='region_result_index',featuresCol='features')"
   ]
  },
  {
   "cell_type": "code",
   "execution_count": 63,
   "metadata": {},
   "outputs": [],
   "source": [
    "rfc_model_2 = rfc_2.fit(train_data_tree_2)"
   ]
  },
  {
   "cell_type": "code",
   "execution_count": 64,
   "metadata": {},
   "outputs": [],
   "source": [
    "rfc_predictions_2 = rfc_model_2.transform(test_data_tree_2)"
   ]
  },
  {
   "cell_type": "code",
   "execution_count": 65,
   "metadata": {},
   "outputs": [],
   "source": [
    "my_binary_eval_2 = BinaryClassificationEvaluator(labelCol = 'region_result_index')"
   ]
  },
  {
   "cell_type": "code",
   "execution_count": 66,
   "metadata": {},
   "outputs": [
    {
     "name": "stdout",
     "output_type": "stream",
     "text": [
      "0.8244949494949492\n"
     ]
    }
   ],
   "source": [
    "print(my_binary_eval_2.evaluate(rfc_predictions_2))"
   ]
  },
  {
   "cell_type": "code",
   "execution_count": 67,
   "metadata": {},
   "outputs": [],
   "source": [
    "# Select (prediction, true label) and compute test error. \n",
    "acc_evaluator_2 = MulticlassClassificationEvaluator(labelCol=\"region_result_index\", predictionCol=\"prediction\", metricName=\"accuracy\")"
   ]
  },
  {
   "cell_type": "code",
   "execution_count": 68,
   "metadata": {},
   "outputs": [],
   "source": [
    "rfc_acc_2 = acc_evaluator_2.evaluate(rfc_predictions_2)"
   ]
  },
  {
   "cell_type": "code",
   "execution_count": 69,
   "metadata": {},
   "outputs": [
    {
     "name": "stdout",
     "output_type": "stream",
     "text": [
      "Random forest model with 70/30 split has an accuracy of: 74.14%\n"
     ]
    }
   ],
   "source": [
    "print('Random forest model with 70/30 split has an accuracy of: {0:2.2f}%'.format(rfc_acc_2*100))"
   ]
  },
  {
   "cell_type": "markdown",
   "metadata": {},
   "source": [
    "# 7.2 Conduct data mining"
   ]
  },
  {
   "cell_type": "markdown",
   "metadata": {},
   "source": [
    "# Default settings for all runs"
   ]
  },
  {
   "cell_type": "code",
   "execution_count": 16,
   "metadata": {},
   "outputs": [],
   "source": [
    "from pyspark.sql import SparkSession\n",
    "spark = SparkSession.builder.appName('linear_regression_adv').getOrCreate()\n",
    "\n",
    "# If you're getting an error with numpy, please type 'sudo pip install numpy --user' into the EC2 console.\n",
    "from pyspark.ml.regression import LinearRegression\n",
    "\n",
    "# Import VectorAssembler and Vectors\n",
    "from pyspark.ml.linalg import Vectors\n",
    "from pyspark.ml.feature import VectorAssembler\n",
    "\n",
    "from pyspark.ml.feature import StringIndexer\n",
    "from pyspark.ml.classification import DecisionTreeClassifier,GBTClassifier,RandomForestClassifier\n",
    "\n",
    "from pyspark.ml.evaluation import MulticlassClassificationEvaluator\n",
    "from pyspark.ml.evaluation import BinaryClassificationEvaluator"
   ]
  },
  {
   "cell_type": "markdown",
   "metadata": {},
   "source": [
    "# Goal 1 - Linear Regreassion"
   ]
  },
  {
   "cell_type": "code",
   "execution_count": 20,
   "metadata": {},
   "outputs": [],
   "source": [
    "#preparing dataframe for Linear regression goal 1\n",
    "school_data_linear_g1 = school_final.select('literacy_rate' , 'male_literacy_rate' , 'female_literacy_rate' , 'urban_percent' , \n",
    "                                     'sexratio' , 'pass_percent')"
   ]
  },
  {
   "cell_type": "code",
   "execution_count": 21,
   "metadata": {},
   "outputs": [],
   "source": [
    "assembler_g1 = VectorAssembler(\n",
    "    inputCols=['literacy_rate' , 'male_literacy_rate' , 'female_literacy_rate' , 'urban_percent' , 'sexratio'],\n",
    "    outputCol=\"features\")"
   ]
  },
  {
   "cell_type": "code",
   "execution_count": 22,
   "metadata": {},
   "outputs": [
    {
     "name": "stdout",
     "output_type": "stream",
     "text": [
      "root\n",
      " |-- literacy_rate: double (nullable = true)\n",
      " |-- male_literacy_rate: double (nullable = true)\n",
      " |-- female_literacy_rate: double (nullable = true)\n",
      " |-- urban_percent: double (nullable = true)\n",
      " |-- sexratio: double (nullable = true)\n",
      " |-- pass_percent: double (nullable = true)\n",
      " |-- features: vector (nullable = true)\n",
      "\n"
     ]
    },
    {
     "data": {
      "text/plain": [
       "[Row(literacy_rate=82.2, male_literacy_rate=87.29, female_literacy_rate=76.43, urban_percent=1.620892231236321, sexratio=889.0, pass_percent=94.05411721316297, features=DenseVector([82.2, 87.29, 76.43, 1.6209, 889.0]))]"
      ]
     },
     "execution_count": 22,
     "metadata": {},
     "output_type": "execute_result"
    }
   ],
   "source": [
    "output_g1 = assembler_g1.transform(school_data_linear_g1)\n",
    "output_g1.printSchema()\n",
    "output_g1.head(1)"
   ]
  },
  {
   "cell_type": "code",
   "execution_count": 23,
   "metadata": {},
   "outputs": [
    {
     "name": "stdout",
     "output_type": "stream",
     "text": [
      "+--------------------+------------------+\n",
      "|            features|      pass_percent|\n",
      "+--------------------+------------------+\n",
      "|[82.2,87.29,76.43...| 94.05411721316297|\n",
      "|[82.2,87.29,76.43...| 92.08577428981984|\n",
      "|[82.2,87.29,76.43...| 97.93665531827091|\n",
      "|[82.2,87.29,76.43...| 92.13992203139817|\n",
      "|[82.2,87.29,76.43...| 94.05411721316297|\n",
      "|[75.48,77.17,73.7...| 73.17316366744218|\n",
      "|[75.48,77.17,73.7...|  84.2525228819526|\n",
      "|[75.48,77.17,73.7...| 75.49961069296653|\n",
      "|[75.48,77.17,73.7...| 72.49463025467935|\n",
      "|[75.48,77.17,73.7...| 99.17333024297909|\n",
      "|[77.08,82.67,71.1...|  82.6755083851103|\n",
      "|[77.08,82.67,71.1...| 82.28316865871777|\n",
      "|[77.08,82.67,71.1...| 82.51991006784687|\n",
      "|[77.08,82.67,71.1...| 82.65169063123699|\n",
      "|[77.08,82.67,71.1...| 93.15251417438323|\n",
      "|[87.07,91.48,79.5...| 88.37727441515038|\n",
      "|[87.07,91.48,79.5...| 90.31664212076583|\n",
      "|[87.07,91.48,79.5...| 64.57627118644068|\n",
      "|[87.07,91.48,79.5...|60.252131998516866|\n",
      "|[87.07,91.48,79.5...| 62.42496998799519|\n",
      "+--------------------+------------------+\n",
      "only showing top 20 rows\n",
      "\n"
     ]
    }
   ],
   "source": [
    "#Final dataframe to be fed to the model\n",
    "final_data_g1 = output_g1.select(\"features\",'pass_percent')\n",
    "final_data_g1.show()"
   ]
  },
  {
   "cell_type": "code",
   "execution_count": 24,
   "metadata": {},
   "outputs": [],
   "source": [
    "#split data for training and testing\n",
    "train_data_g1,test_data_g1 = final_data_g1.randomSplit([0.8,0.2])"
   ]
  },
  {
   "cell_type": "code",
   "execution_count": 25,
   "metadata": {},
   "outputs": [],
   "source": [
    "#Linear Regression Model\n",
    "lr_g1 = LinearRegression(labelCol='pass_percent')"
   ]
  },
  {
   "cell_type": "code",
   "execution_count": 26,
   "metadata": {},
   "outputs": [],
   "source": [
    "# Fit the model to the data.\n",
    "lrModel_g1 = lr_g1.fit(train_data_g1)"
   ]
  },
  {
   "cell_type": "code",
   "execution_count": 27,
   "metadata": {},
   "outputs": [
    {
     "name": "stdout",
     "output_type": "stream",
     "text": [
      "Coefficients: [-43.08750893083994,20.921660100545505,22.100737137276326,-0.04775316925922438,-0.14911949342517286] Intercept: 244.9978687689212\n"
     ]
    }
   ],
   "source": [
    "# coefficients and intercept for linear regression Run 1.\n",
    "print(\"Coefficients: {} Intercept: {}\".format(lrModel_g1.coefficients,lrModel_g1.intercept))"
   ]
  },
  {
   "cell_type": "markdown",
   "metadata": {},
   "source": [
    "# Goal 2 - Linear Regression"
   ]
  },
  {
   "cell_type": "code",
   "execution_count": 53,
   "metadata": {},
   "outputs": [],
   "source": [
    "#preparing dataframe for Linear regression goal 2\n",
    "school_data_linear_g2 = school_final.select('bldg_percent','girls_toilet_percent',\n",
    "                       'boys_toilet_percent','cwsn_toilet_percent','water_percent',\n",
    "                       'electric_percent','ramps_percent','library_percent','librarian_percent','bndrywall_percent',\n",
    "                       'cwsn_sch_percent','lab_asst_percent','hmroom_percent','internet_percent',\n",
    "                       'ict_lab_percent','pground_percent','medchk_percent','smdc_percent',\n",
    "                       'sch_bld_com_percent','pta_percent','sch_2006_percent','pass_percent')"
   ]
  },
  {
   "cell_type": "code",
   "execution_count": 54,
   "metadata": {},
   "outputs": [],
   "source": [
    "assembler_g2 = VectorAssembler(\n",
    "    inputCols=['bldg_percent','girls_toilet_percent',\n",
    "                       'boys_toilet_percent','cwsn_toilet_percent','water_percent',\n",
    "                       'electric_percent','ramps_percent','library_percent','librarian_percent','bndrywall_percent',\n",
    "                       'cwsn_sch_percent','lab_asst_percent','hmroom_percent','internet_percent',\n",
    "                       'ict_lab_percent','pground_percent','medchk_percent','smdc_percent',\n",
    "                       'sch_bld_com_percent','pta_percent','sch_2006_percent'],\n",
    "    outputCol=\"features\")"
   ]
  },
  {
   "cell_type": "code",
   "execution_count": 55,
   "metadata": {},
   "outputs": [],
   "source": [
    "output_g2 = assembler_g2.transform(school_data_linear_g2)"
   ]
  },
  {
   "cell_type": "code",
   "execution_count": 57,
   "metadata": {},
   "outputs": [],
   "source": [
    "final_data_g2 = output_g2.select(\"features\",'pass_percent')\n",
    "#final_data_g2.show()"
   ]
  },
  {
   "cell_type": "code",
   "execution_count": 58,
   "metadata": {},
   "outputs": [],
   "source": [
    "#split data for training and testing\n",
    "train_data_g2,test_data_g2 = final_data_g2.randomSplit([0.8,0.2])"
   ]
  },
  {
   "cell_type": "code",
   "execution_count": 59,
   "metadata": {},
   "outputs": [],
   "source": [
    "#Linear Regression Model\n",
    "lr_g2 = LinearRegression(labelCol='pass_percent')"
   ]
  },
  {
   "cell_type": "code",
   "execution_count": 60,
   "metadata": {},
   "outputs": [],
   "source": [
    "# Fit the model to the data.\n",
    "lrModel_g2 = lr_g2.fit(train_data_g2)"
   ]
  },
  {
   "cell_type": "code",
   "execution_count": 61,
   "metadata": {},
   "outputs": [
    {
     "name": "stdout",
     "output_type": "stream",
     "text": [
      "Coefficients: [0.5967200700967751,-0.023424687147040227,-0.01716572201981494,0.08673233255013675,0.1302659027048301,0.21606608097549024,-0.042238206104550105,-0.02422535894170918,0.11753846267475485,-0.031748910370120675,-0.3770493501253604,-0.02409344533037698,0.1572118495913,-0.05109745275171995,0.01152453824859951,0.026663491850712658,-0.1339709403492872,-0.02370438971158362,-0.43147572046251087,0.2021535061993394,-0.13832803194285614] Intercept: -0.16025465022064503\n"
     ]
    }
   ],
   "source": [
    "# Coefficients and intercept for linear regression - RUn 2.\n",
    "print(\"Coefficients: {} Intercept: {}\".format(lrModel_g2.coefficients,lrModel_g2.intercept))"
   ]
  },
  {
   "cell_type": "markdown",
   "metadata": {},
   "source": [
    "# Goal 3 - Random Forest Classifier (Multiple Iterations)"
   ]
  },
  {
   "cell_type": "markdown",
   "metadata": {},
   "source": [
    "## Iteration 1 - Random Forest with default numTrees and train-test split 90/10"
   ]
  },
  {
   "cell_type": "code",
   "execution_count": 17,
   "metadata": {},
   "outputs": [],
   "source": [
    "# Configurations for Iteration 1\n",
    "#preparing dataframe for Linear regression goal 3\n",
    "school_data_forest_g3 = school_final.select('literacy_rate' , 'male_literacy_rate' , 'female_literacy_rate' , 'urban_percent' ,\n",
    "                       'sexratio','bldg_percent','girls_toilet_percent',\n",
    "                       'boys_toilet_percent','cwsn_toilet_percent','water_percent',\n",
    "                       'electric_percent','ramps_percent','librarian_percent','bndrywall_percent',\n",
    "                       'cwsn_sch_percent','lab_asst_percent','hmroom_percent','internet_percent',\n",
    "                       'ict_lab_percent','pground_percent','medchk_percent','smdc_percent',\n",
    "                       'sch_bld_com_percent','pta_percent','sch_2006_percent', 'region_result',)"
   ]
  },
  {
   "cell_type": "code",
   "execution_count": 18,
   "metadata": {},
   "outputs": [],
   "source": [
    "# Combine all features into one vector named features.\n",
    "assembler_g3 = VectorAssembler(\n",
    "  inputCols=['literacy_rate' , 'male_literacy_rate' , 'female_literacy_rate' , 'urban_percent' ,\n",
    "                       'sexratio','bldg_percent','girls_toilet_percent',\n",
    "                       'boys_toilet_percent','cwsn_toilet_percent','water_percent',\n",
    "                       'electric_percent','ramps_percent','librarian_percent','bndrywall_percent',\n",
    "                       'cwsn_sch_percent','lab_asst_percent','hmroom_percent','internet_percent',\n",
    "                       'ict_lab_percent','pground_percent','medchk_percent','smdc_percent',\n",
    "                       'sch_bld_com_percent','pta_percent','sch_2006_percent'],\n",
    "              outputCol=\"features\")"
   ]
  },
  {
   "cell_type": "code",
   "execution_count": 19,
   "metadata": {},
   "outputs": [],
   "source": [
    "# transform the data. \n",
    "output_g3 = assembler_g3.transform(school_data_forest_g3)"
   ]
  },
  {
   "cell_type": "code",
   "execution_count": 20,
   "metadata": {},
   "outputs": [],
   "source": [
    "# Convert the output column to index\n",
    "indexer_g3 = StringIndexer(inputCol=\"region_result\", outputCol=\"region_result_index\")\n",
    "output_fixed_g3 = indexer_g3.fit(output_g3).transform(output_g3)"
   ]
  },
  {
   "cell_type": "code",
   "execution_count": 21,
   "metadata": {},
   "outputs": [],
   "source": [
    "# select the required two columns we want. \n",
    "#Features (which contains vectors), and the predictor.\n",
    "final_data_g3 = output_fixed_g3.select(\"features\",\"region_result_index\")"
   ]
  },
  {
   "cell_type": "code",
   "execution_count": 158,
   "metadata": {},
   "outputs": [
    {
     "name": "stdout",
     "output_type": "stream",
     "text": [
      "+--------------------+-------------------+\n",
      "|            features|region_result_index|\n",
      "+--------------------+-------------------+\n",
      "|[82.2,87.29,76.43...|                0.0|\n",
      "|[82.2,87.29,76.43...|                0.0|\n",
      "|[82.2,87.29,76.43...|                0.0|\n",
      "|[82.2,87.29,76.43...|                0.0|\n",
      "|[82.2,87.29,76.43...|                0.0|\n",
      "|[75.48,77.17,73.7...|                1.0|\n",
      "|[75.48,77.17,73.7...|                0.0|\n",
      "|[75.48,77.17,73.7...|                1.0|\n",
      "|[75.48,77.17,73.7...|                1.0|\n",
      "|[75.48,77.17,73.7...|                0.0|\n",
      "|[77.08,82.67,71.1...|                0.0|\n",
      "|[77.08,82.67,71.1...|                0.0|\n",
      "|[77.08,82.67,71.1...|                0.0|\n",
      "|[77.08,82.67,71.1...|                0.0|\n",
      "|[77.08,82.67,71.1...|                0.0|\n",
      "|[87.07,91.48,79.5...|                0.0|\n",
      "|[87.07,91.48,79.5...|                0.0|\n",
      "|[87.07,91.48,79.5...|                1.0|\n",
      "|[87.07,91.48,79.5...|                1.0|\n",
      "|[87.07,91.48,79.5...|                1.0|\n",
      "+--------------------+-------------------+\n",
      "only showing top 20 rows\n",
      "\n"
     ]
    }
   ],
   "source": [
    "final_data_g3.show()"
   ]
  },
  {
   "cell_type": "code",
   "execution_count": 22,
   "metadata": {},
   "outputs": [],
   "source": [
    "# Split the training and testing set.\n",
    "train_data_forest_g3,test_data_forest_g3 = final_data_g3.randomSplit([0.9,0.1])"
   ]
  },
  {
   "cell_type": "code",
   "execution_count": 157,
   "metadata": {},
   "outputs": [
    {
     "name": "stdout",
     "output_type": "stream",
     "text": [
      "+-------+-------------------+\n",
      "|summary|region_result_index|\n",
      "+-------+-------------------+\n",
      "|  count|                158|\n",
      "|   mean| 0.4240506329113924|\n",
      "| stddev| 0.4957694116440524|\n",
      "|    min|                0.0|\n",
      "|    max|                1.0|\n",
      "+-------+-------------------+\n",
      "\n",
      "+-------+-------------------+\n",
      "|summary|region_result_index|\n",
      "+-------+-------------------+\n",
      "|  count|                 20|\n",
      "|   mean|               0.55|\n",
      "| stddev| 0.5104177855340404|\n",
      "|    min|                0.0|\n",
      "|    max|                1.0|\n",
      "+-------+-------------------+\n",
      "\n"
     ]
    }
   ],
   "source": [
    "# training data.\n",
    "train_data_forest_g3.describe().show()\n",
    "\n",
    "# testing data.\n",
    "test_data_forest_g3.describe().show()"
   ]
  },
  {
   "cell_type": "code",
   "execution_count": 23,
   "metadata": {},
   "outputs": [],
   "source": [
    "rfc_g3 = RandomForestClassifier(labelCol='region_result_index',featuresCol='features')"
   ]
  },
  {
   "cell_type": "code",
   "execution_count": 24,
   "metadata": {},
   "outputs": [],
   "source": [
    "rfc_model_g3 = rfc_g3.fit(train_data_forest_g3)"
   ]
  },
  {
   "cell_type": "code",
   "execution_count": 25,
   "metadata": {},
   "outputs": [],
   "source": [
    "rfc_predictions_g3 = rfc_model_g3.transform(test_data_forest_g3)"
   ]
  },
  {
   "cell_type": "code",
   "execution_count": 26,
   "metadata": {},
   "outputs": [],
   "source": [
    "binary_eval_g3 = BinaryClassificationEvaluator(labelCol = 'region_result_index')"
   ]
  },
  {
   "cell_type": "code",
   "execution_count": 27,
   "metadata": {},
   "outputs": [
    {
     "name": "stdout",
     "output_type": "stream",
     "text": [
      "0.9375\n"
     ]
    }
   ],
   "source": [
    "print(binary_eval_g3.evaluate(rfc_predictions_g3))"
   ]
  },
  {
   "cell_type": "code",
   "execution_count": 28,
   "metadata": {},
   "outputs": [],
   "source": [
    "acc_evaluator_g3 = MulticlassClassificationEvaluator(labelCol=\"region_result_index\", predictionCol=\"prediction\", metricName=\"accuracy\")"
   ]
  },
  {
   "cell_type": "code",
   "execution_count": 29,
   "metadata": {},
   "outputs": [],
   "source": [
    "rfc_acc_g3 = acc_evaluator_g3.evaluate(rfc_predictions_g3)"
   ]
  },
  {
   "cell_type": "code",
   "execution_count": 48,
   "metadata": {},
   "outputs": [
    {
     "name": "stdout",
     "output_type": "stream",
     "text": [
      "Random forest classifier with default settings has an accuracy of: 80.95%\n"
     ]
    }
   ],
   "source": [
    "print('Random forest classifier with default settings has an accuracy of: {0:2.2f}%'.format(rfc_acc_g3*100))"
   ]
  },
  {
   "cell_type": "markdown",
   "metadata": {},
   "source": [
    "## Iteration 2 - Random Forest with numTrees=10 and train-test split=80/20"
   ]
  },
  {
   "cell_type": "code",
   "execution_count": 32,
   "metadata": {},
   "outputs": [],
   "source": [
    "# Configurations for Iteration 2\n",
    "rfc_g3_i2 = RandomForestClassifier(labelCol='region_result_index',featuresCol='features', numTrees=10)"
   ]
  },
  {
   "cell_type": "code",
   "execution_count": 31,
   "metadata": {},
   "outputs": [],
   "source": [
    "# Split the training and testing set.\n",
    "train_data_forest_g3_i2,test_data_forest_g3_i2 = final_data_g3.randomSplit([0.8,0.2])"
   ]
  },
  {
   "cell_type": "code",
   "execution_count": 33,
   "metadata": {},
   "outputs": [],
   "source": [
    "rfc_model_g3_i2 = rfc_g3_i2.fit(train_data_forest_g3_i2)"
   ]
  },
  {
   "cell_type": "code",
   "execution_count": 34,
   "metadata": {},
   "outputs": [],
   "source": [
    "rfc_predictions_g3_i2 = rfc_model_g3_i2.transform(test_data_forest_g3_i2)"
   ]
  },
  {
   "cell_type": "code",
   "execution_count": 35,
   "metadata": {},
   "outputs": [],
   "source": [
    "binary_eval_g3_i2 = BinaryClassificationEvaluator(labelCol = 'region_result_index')"
   ]
  },
  {
   "cell_type": "code",
   "execution_count": 36,
   "metadata": {},
   "outputs": [
    {
     "name": "stdout",
     "output_type": "stream",
     "text": [
      "0.9444444444444444\n"
     ]
    }
   ],
   "source": [
    "print(binary_eval_g3_i2.evaluate(rfc_predictions_g3_i2))"
   ]
  },
  {
   "cell_type": "code",
   "execution_count": 37,
   "metadata": {},
   "outputs": [],
   "source": [
    "acc_evaluator_g3_i2 = MulticlassClassificationEvaluator(labelCol=\"region_result_index\", predictionCol=\"prediction\", metricName=\"accuracy\")"
   ]
  },
  {
   "cell_type": "code",
   "execution_count": 38,
   "metadata": {},
   "outputs": [],
   "source": [
    "rfc_acc_g3_i2 = acc_evaluator_g3_i2.evaluate(rfc_predictions_g3_i2)"
   ]
  },
  {
   "cell_type": "code",
   "execution_count": 41,
   "metadata": {},
   "outputs": [
    {
     "name": "stdout",
     "output_type": "stream",
     "text": [
      "A random forest classifier with 10 trees has an accuracy of: 83.33%\n"
     ]
    }
   ],
   "source": [
    "print('A random forest classifier with 10 trees has an accuracy of: {0:2.2f}%'.format(rfc_acc_g3_i2*100))"
   ]
  },
  {
   "cell_type": "markdown",
   "metadata": {},
   "source": [
    "## Iteration 3 - Random Forest with numTrees=20 and train-test split=80/20"
   ]
  },
  {
   "cell_type": "code",
   "execution_count": 42,
   "metadata": {},
   "outputs": [
    {
     "name": "stdout",
     "output_type": "stream",
     "text": [
      "0.9555555555555555\n",
      "A random forest classifier with 20 trees has an accuracy of: 89.29%\n"
     ]
    }
   ],
   "source": [
    "# Configurations for Iteration 3\n",
    "train_data_forest_g3_i3,test_data_forest_g3_i3 = final_data_g3.randomSplit([0.8,0.2])\n",
    "\n",
    "rfc_g3_i3 = RandomForestClassifier(labelCol='region_result_index',featuresCol='features', numTrees=20)\n",
    "\n",
    "rfc_model_g3_i3 = rfc_g3_i3.fit(train_data_forest_g3_i3)\n",
    "\n",
    "rfc_predictions_g3_i3 = rfc_model_g3_i3.transform(test_data_forest_g3_i3)\n",
    "\n",
    "binary_eval_g3_i3 = BinaryClassificationEvaluator(labelCol = 'region_result_index')\n",
    "\n",
    "print(binary_eval_g3_i3.evaluate(rfc_predictions_g3_i3))\n",
    "\n",
    "acc_evaluator_g3_i3 = MulticlassClassificationEvaluator(labelCol=\"region_result_index\", predictionCol=\"prediction\", metricName=\"accuracy\")\n",
    "\n",
    "rfc_acc_g3_i3 = acc_evaluator_g3_i3.evaluate(rfc_predictions_g3_i3)\n",
    "\n",
    "print('A random forest classifier with 20 trees has an accuracy of: {0:2.2f}%'.format(rfc_acc_g3_i3*100))"
   ]
  },
  {
   "cell_type": "markdown",
   "metadata": {},
   "source": [
    "## Iteration 4 - Random Forest with numTrees=30 and train-test split=80/20"
   ]
  },
  {
   "cell_type": "code",
   "execution_count": 47,
   "metadata": {},
   "outputs": [
    {
     "name": "stdout",
     "output_type": "stream",
     "text": [
      "0.8390092879256965\n",
      "Random forest classifier with 30 trees has an accuracy of: 72.22%\n"
     ]
    }
   ],
   "source": [
    "# Configurations for Iteration 4\n",
    "train_data_forest_g3_i4,test_data_forest_g3_i4 = final_data_g3.randomSplit([0.8,0.2])\n",
    "\n",
    "rfc_g3_i4 = RandomForestClassifier(labelCol='region_result_index',featuresCol='features', numTrees=30)\n",
    "\n",
    "rfc_model_g3_i4 = rfc_g3_i4.fit(train_data_forest_g3_i4)\n",
    "\n",
    "rfc_predictions_g3_i4 = rfc_model_g3_i4.transform(test_data_forest_g3_i4)\n",
    "\n",
    "binary_eval_g3_i4 = BinaryClassificationEvaluator(labelCol = 'region_result_index')\n",
    "\n",
    "print(binary_eval_g3_i4.evaluate(rfc_predictions_g3_i4))\n",
    "\n",
    "acc_evaluator_g3_i4 = MulticlassClassificationEvaluator(labelCol=\"region_result_index\", predictionCol=\"prediction\", metricName=\"accuracy\")\n",
    "\n",
    "rfc_acc_g3_i4 = acc_evaluator_g3_i4.evaluate(rfc_predictions_g3_i4)\n",
    "\n",
    "print('Random forest classifier with 30 trees has an accuracy of: {0:2.2f}%'.format(rfc_acc_g3_i4*100))"
   ]
  },
  {
   "cell_type": "code",
   "execution_count": 50,
   "metadata": {},
   "outputs": [
    {
     "name": "stdout",
     "output_type": "stream",
     "text": [
      "Iteration 1: Model with default settings has an accuracy of: 80.95%\n",
      "Iteration 2: Model with 10 trees has an accuracy of: 83.33%\n",
      "Iteration 3: Model with 20 trees has an accuracy of: 89.29%\n",
      "Iteration 4: Model with 30 trees  has an accuracy of: 72.22%\n"
     ]
    }
   ],
   "source": [
    "print('Iteration 1: Model with default settings has an accuracy of: {0:2.2f}%'.format(rfc_acc_g3*100))\n",
    "print('Iteration 2: Model with 10 trees has an accuracy of: {0:2.2f}%'.format(rfc_acc_g3_i2*100))\n",
    "print('Iteration 3: Model with 20 trees has an accuracy of: {0:2.2f}%'.format(rfc_acc_g3_i3*100))\n",
    "print('Iteration 4: Model with 30 trees  has an accuracy of: {0:2.2f}%'.format(rfc_acc_g3_i4*100))"
   ]
  },
  {
   "cell_type": "code",
   "execution_count": null,
   "metadata": {},
   "outputs": [],
   "source": []
  }
 ],
 "metadata": {
  "kernelspec": {
   "display_name": "Python 3",
   "language": "python",
   "name": "python3"
  },
  "language_info": {
   "codemirror_mode": {
    "name": "ipython",
    "version": 3
   },
   "file_extension": ".py",
   "mimetype": "text/x-python",
   "name": "python",
   "nbconvert_exporter": "python",
   "pygments_lexer": "ipython3",
   "version": "3.5.2"
  }
 },
 "nbformat": 4,
 "nbformat_minor": 2
}
